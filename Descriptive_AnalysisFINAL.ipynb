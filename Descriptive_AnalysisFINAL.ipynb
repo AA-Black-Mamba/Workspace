{
 "cells": [
  {
   "cell_type": "markdown",
   "metadata": {},
   "source": [
    "# Descriptive Analysis"
   ]
  },
  {
   "cell_type": "markdown",
   "metadata": {},
   "source": [
    "## Preparation"
   ]
  },
  {
   "cell_type": "code",
   "execution_count": 1,
   "metadata": {},
   "outputs": [],
   "source": [
    "#packages needed\n",
    "import pandas as pd\n",
    "import numpy as np\n",
    "import datetime\n",
    "from sklearn.model_selection import train_test_split\n",
    "import matplotlib as mpl\n",
    "import matplotlib.pyplot as plt\n",
    "from matplotlib.dates import DateFormatter, WeekdayLocator,\\\n",
    "    DayLocator, MONDAY\n",
    "import matplotlib.dates as mdates\n",
    "import seaborn as sns\n",
    "from pandas.api.types import CategoricalDtype\n",
    "\n",
    "import warnings;\n",
    "warnings.filterwarnings('ignore');"
   ]
  },
  {
   "cell_type": "code",
   "execution_count": 2,
   "metadata": {},
   "outputs": [],
   "source": [
    "#reading the csv table in as data frame with panda\n",
    "#if you have the problem that you cannot load this data, try to update your conda version and packages\n",
    "\n",
    "booking_set = pd.read_csv(\"OPENDATA_BOOKING_CALL_A_BIKE.csv\", delimiter=';')"
   ]
  },
  {
   "cell_type": "code",
   "execution_count": 3,
   "metadata": {},
   "outputs": [
    {
     "data": {
      "text/plain": [
       "BOOKING_HAL_ID                     0\n",
       "CATEGORY_HAL_ID                    0\n",
       "VEHICLE_HAL_ID                     0\n",
       "CUSTOMER_HAL_ID                    0\n",
       "DATE_BOOKING                       0\n",
       "DATE_FROM                          0\n",
       "DATE_UNTIL                         0\n",
       "COMPUTE_EXTRA_BOOKING_FEE          0\n",
       "TRAVERSE_USE                       0\n",
       "DISTANCE                         514\n",
       "START_RENTAL_ZONE            3394198\n",
       "START_RENTAL_ZONE_HAL_ID      669310\n",
       "END_RENTAL_ZONE              3439870\n",
       "END_RENTAL_ZONE_HAL_ID        697042\n",
       "RENTAL_ZONE_HAL_SRC           224902\n",
       "CITY_RENTAL_ZONE                   0\n",
       "TECHNICAL_INCOME_CHANNEL      223469\n",
       "dtype: int64"
      ]
     },
     "execution_count": 3,
     "metadata": {},
     "output_type": "execute_result"
    }
   ],
   "source": [
    "booking_set.isna().sum()"
   ]
  },
  {
   "cell_type": "code",
   "execution_count": null,
   "metadata": {},
   "outputs": [],
   "source": [
    "#do not remove the NaN before actually doing something with the stations"
   ]
  },
  {
   "cell_type": "code",
   "execution_count": null,
   "metadata": {},
   "outputs": [],
   "source": [
    "booking_set.columns\n",
    "#show the column names of the csv data. Remark: the file from 2017 has a lot less columns than the file from 2016\n",
    "#but the 2017 file contains the time interval we were assigned"
   ]
  },
  {
   "cell_type": "code",
   "execution_count": null,
   "metadata": {
    "scrolled": true
   },
   "outputs": [],
   "source": [
    "#get the data just Frankfurt\n",
    "booking_set_frankfurt = booking_set[booking_set['CITY_RENTAL_ZONE'].str.contains('Frankfurt')]\n",
    "booking_set_frankfurt"
   ]
  },
  {
   "cell_type": "code",
   "execution_count": null,
   "metadata": {},
   "outputs": [],
   "source": [
    "#just get the two columns and convert date column to new time format\n",
    "booking_set_frankfurt = booking_set_frankfurt.loc[:,['BOOKING_HAL_ID', 'DATE_BOOKING']]\n",
    "booking_set_frankfurt.sort_values(['DATE_BOOKING'], axis=0, \n",
    "                 ascending=True, inplace=True) #sort the data after the date, ascending\n",
    "booking_set_frankfurt['DATE_BOOKING'] = pd.to_datetime(booking_set_frankfurt['DATE_BOOKING'])\n",
    "booking_set_frankfurt['DATE_BOOKING'].dt.strftime('%Y-%m-%d %X')\n",
    "booking_set_frankfurt"
   ]
  },
  {
   "cell_type": "code",
   "execution_count": null,
   "metadata": {},
   "outputs": [],
   "source": [
    "# set start date and beginning date: change date format if needed\n",
    "start_date_20152016 = '2015-01-01 00:00:00'\n",
    "end_date_20152016 = '2016-12-31 23:59:59'\n",
    "filtered_dates_20152016 = (booking_set_frankfurt['DATE_BOOKING'] >= start_date_20152016) & (booking_set_frankfurt['DATE_BOOKING'] <= end_date_20152016)\n",
    "booking_set_frankfurt_20152016 = booking_set_frankfurt.loc[filtered_dates_20152016]\n",
    "booking_set_frankfurt_20152016"
   ]
  },
  {
   "cell_type": "markdown",
   "metadata": {},
   "source": [
    "## Amount of total bookings in the file/just in Frankfurt/just in Franfurt 15/16:\n",
    "- total: 16.228.298 \n",
    "- just in Frankfurt: 2.143.378\n",
    "- in the time between 2015/01/01 and 2016/12/31: 1.431.643\n"
   ]
  },
  {
   "cell_type": "markdown",
   "metadata": {},
   "source": [
    "## Amount of bookings in Frankfurt 2015:"
   ]
  },
  {
   "cell_type": "code",
   "execution_count": null,
   "metadata": {},
   "outputs": [],
   "source": [
    "#same procedure as before\n",
    "start_date_2015 = '2015-01-01 00:00:00'\n",
    "end_date_2015 = '2015-12-31 23:59:59'\n",
    "filtered_dates_2015 = (booking_set_frankfurt['DATE_BOOKING'] >= start_date_2015) & (booking_set_frankfurt['DATE_BOOKING'] <= end_date_2015)\n",
    "booking_set_frankfurt_2015 = booking_set_frankfurt.loc[filtered_dates_2015]\n",
    "booking_set_frankfurt_2015"
   ]
  },
  {
   "cell_type": "markdown",
   "metadata": {},
   "source": [
    "Result: 516.605"
   ]
  },
  {
   "cell_type": "code",
   "execution_count": null,
   "metadata": {},
   "outputs": [],
   "source": [
    "#in case we need it, regular expression for the month: [0-9]{4}-[0-9]{2}\n",
    "booking_set_frankfurt_2015['month_year'] = booking_set_frankfurt_2015['DATE_BOOKING'].dt.to_period('M')\n",
    "#the following is to get the absolute values that are also stated below\n",
    "#booking_set_frankfurt_2015['month_year'].value_counts()\n",
    "booking_set_frankfurt_2015['month_year'].value_counts(normalize=True) #get percentage\n",
    "#this one will show the percentage of bookings per month in the year 2015"
   ]
  },
  {
   "cell_type": "markdown",
   "metadata": {},
   "source": [
    "Results for absolute values (not normalized as the one above):\n",
    "- 2015-08:    67.080\n",
    "- 2015-07:    62.005\n",
    "- 2015-06:    52.687\n",
    "- 2015-05:    48.385\n",
    "- 2015-09:    46.660\n",
    "- 2015-10:    44.043\n",
    "- 2015-11:    42.993\n",
    "- 2015-04:    42.225\n",
    "- 2015-12:    35.624\n",
    "- 2015-03:    33.403\n",
    "- 2015-01:    21.338\n",
    "- 2015-02:    20.162"
   ]
  },
  {
   "cell_type": "code",
   "execution_count": null,
   "metadata": {},
   "outputs": [],
   "source": [
    "booking_set_frankfurt_2015.groupby(['month_year']).agg({'month_year': ['count']}).plot(kind='bar')"
   ]
  },
  {
   "cell_type": "code",
   "execution_count": null,
   "metadata": {},
   "outputs": [],
   "source": [
    "#number of bookings increasing constantly until August. Rapidly sloping in September and constantly decreasing \n",
    "#until the end of the year.\n",
    "#the summer months and the winter months are in relation to the booking frequency"
   ]
  },
  {
   "cell_type": "markdown",
   "metadata": {},
   "source": [
    "## Amount bookings Frankfurt 2016:"
   ]
  },
  {
   "cell_type": "code",
   "execution_count": null,
   "metadata": {},
   "outputs": [],
   "source": [
    "start_date_2016 = '2016-01-01 00:00:00'\n",
    "end_date_2016 = '2016-12-31 23:59:59'\n",
    "filtered_dates_2016 = (booking_set_frankfurt['DATE_BOOKING'] >= start_date_2016) & (booking_set_frankfurt['DATE_BOOKING'] <= end_date_2016)\n",
    "booking_set_frankfurt_2016 = booking_set_frankfurt.loc[filtered_dates_2016]\n",
    "booking_set_frankfurt_2016"
   ]
  },
  {
   "cell_type": "markdown",
   "metadata": {},
   "source": [
    "Result: 915.038"
   ]
  },
  {
   "cell_type": "code",
   "execution_count": null,
   "metadata": {},
   "outputs": [],
   "source": [
    "booking_set_frankfurt_2016['month_year'] = booking_set_frankfurt_2016['DATE_BOOKING'].dt.to_period('M')\n",
    "booking_set_frankfurt_2016['month_year'].value_counts(normalize=True)"
   ]
  },
  {
   "cell_type": "code",
   "execution_count": null,
   "metadata": {},
   "outputs": [],
   "source": [
    "booking_set_frankfurt_2016['month_year'].value_counts() "
   ]
  },
  {
   "cell_type": "code",
   "execution_count": null,
   "metadata": {},
   "outputs": [],
   "source": [
    "booking_set_frankfurt_2016.groupby(['month_year']).agg({'month_year': ['count']}).plot(kind='bar')"
   ]
  },
  {
   "cell_type": "code",
   "execution_count": null,
   "metadata": {},
   "outputs": [],
   "source": [
    "#see explanation for booking frequency plot 2015\n",
    "#compared to 2015, the booking frequency for all months has increased\n",
    "#the same ratio of summer months and winter months can be seen except that there is no rapid drop between Augusut \n",
    "#and September\n",
    "#therefore bookings between October and December are relatively less compared to 2015"
   ]
  },
  {
   "cell_type": "markdown",
   "metadata": {},
   "source": [
    "## Amount of bookings in the seasons:\n"
   ]
  },
  {
   "cell_type": "code",
   "execution_count": null,
   "metadata": {},
   "outputs": [],
   "source": [
    "#2015\n",
    "#December, January, February\n",
    "start_date_dec_2015 = '2015-12-01 00:00:00'\n",
    "end_date_dec_2015 = '2015-12-31 23:59:59'\n",
    "filtered_dates_dec_2015 = (booking_set_frankfurt['DATE_BOOKING'] >= start_date_dec_2015) & (booking_set_frankfurt['DATE_BOOKING'] <= end_date_dec_2015) \n",
    "booking_set_frankfurt_dec_2015 = booking_set_frankfurt.loc[filtered_dates_dec_2015]\n",
    "booking_set_frankfurt_dec_2015"
   ]
  },
  {
   "cell_type": "code",
   "execution_count": null,
   "metadata": {},
   "outputs": [],
   "source": [
    "start_date_winter_2015 = '2015-01-01 00:00:00'\n",
    "end_date_winter_2015 = '2015-02-28 23:59:59'\n",
    "filtered_dates_winter_2015 = (booking_set_frankfurt['DATE_BOOKING'] >= start_date_winter_2015) & (booking_set_frankfurt['DATE_BOOKING'] <= end_date_winter_2015) \n",
    "booking_set_frankfurt_winter_2015 = booking_set_frankfurt.loc[filtered_dates_winter_2015]\n",
    "booking_set_frankfurt_winter_2015"
   ]
  },
  {
   "cell_type": "code",
   "execution_count": null,
   "metadata": {},
   "outputs": [],
   "source": [
    "#combine the two frames\n",
    "frames = [booking_set_frankfurt_dec_2015, booking_set_frankfurt_winter_2015]\n",
    "winter_2015 = pd.concat(frames)\n",
    "winter_2015"
   ]
  },
  {
   "cell_type": "code",
   "execution_count": null,
   "metadata": {},
   "outputs": [],
   "source": [
    "##March, April, Mai\n",
    "start_date_spring_2015 = '2015-03-01 00:00:00'\n",
    "end_date_spring_2015 = '2015-05-31 23:59:59'\n",
    "filtered_dates_spring_2015 = (booking_set_frankfurt['DATE_BOOKING'] >= start_date_spring_2015) & (booking_set_frankfurt['DATE_BOOKING'] <= end_date_spring_2015)\n",
    "booking_set_frankfurt_spring_2015 = booking_set_frankfurt.loc[filtered_dates_spring_2015]\n",
    "booking_set_frankfurt_spring_2015"
   ]
  },
  {
   "cell_type": "code",
   "execution_count": null,
   "metadata": {},
   "outputs": [],
   "source": [
    "##June, Juli, August\n",
    "start_date_summer_2015 = '2015-06-01 00:00:00'\n",
    "end_date_summer_2015 = '2015-08-31 23:59:59'\n",
    "filtered_dates_summer_2015 = (booking_set_frankfurt['DATE_BOOKING'] >= start_date_summer_2015) & (booking_set_frankfurt['DATE_BOOKING'] <= end_date_summer_2015)\n",
    "booking_set_frankfurt_summer_2015 = booking_set_frankfurt.loc[filtered_dates_summer_2015]\n",
    "booking_set_frankfurt_summer_2015"
   ]
  },
  {
   "cell_type": "code",
   "execution_count": null,
   "metadata": {},
   "outputs": [],
   "source": [
    "##September, October, November\n",
    "start_date_fall_2015 = '2015-09-01 00:00:00'\n",
    "end_date_fall_2015 = '2015-11-30 23:59:59'\n",
    "filtered_dates_fall_2015 = (booking_set_frankfurt['DATE_BOOKING'] >= start_date_fall_2015) & (booking_set_frankfurt['DATE_BOOKING'] <= end_date_fall_2015)\n",
    "booking_set_frankfurt_fall_2015 = booking_set_frankfurt.loc[filtered_dates_fall_2015]\n",
    "booking_set_frankfurt_fall_2015"
   ]
  },
  {
   "cell_type": "code",
   "execution_count": null,
   "metadata": {},
   "outputs": [],
   "source": [
    "#simple plot for the bookings per season\n",
    "data2015 = {'Season':['Winter', 'Spring', 'Summer', 'Fall'],\n",
    "        'Amount':[77124, 124013, 181772 , 133696]}\n",
    "data2015 = pd.DataFrame(data2015)\n",
    "data2015.plot('Season', kind='bar')"
   ]
  },
  {
   "cell_type": "code",
   "execution_count": null,
   "metadata": {},
   "outputs": [],
   "source": [
    "#booking frequencies are aggregated on seasons\n",
    "#the same trend as the monthly visualization can be seen\n",
    "#most bookings are in summer and the fewest in the winter.\n",
    "#spring and autumn behave almost linearly to the summer and winter months"
   ]
  },
  {
   "cell_type": "code",
   "execution_count": null,
   "metadata": {},
   "outputs": [],
   "source": [
    "#do the same for the year 2016"
   ]
  },
  {
   "cell_type": "code",
   "execution_count": null,
   "metadata": {},
   "outputs": [],
   "source": [
    "#2016\n",
    "#December, January, February\n",
    "start_date_dec_2016 = '2016-12-01 00:00:00'\n",
    "end_date_dec_2016 = '2016-12-31 23:59:59'\n",
    "filtered_dates_dec_2016 = (booking_set_frankfurt['DATE_BOOKING'] >= start_date_dec_2016) & (booking_set_frankfurt['DATE_BOOKING'] <= end_date_dec_2016) \n",
    "booking_set_frankfurt_dec_2016 = booking_set_frankfurt.loc[filtered_dates_dec_2016]\n",
    "start_date_winter_2016 = '2016-01-01 00:00:00'\n",
    "end_date_winter_2016 = '2016-02-29 23:59:59'\n",
    "filtered_dates_winter_2016 = (booking_set_frankfurt['DATE_BOOKING'] >= start_date_winter_2016) & (booking_set_frankfurt['DATE_BOOKING'] <= end_date_winter_2016) \n",
    "booking_set_frankfurt_winter_2016 = booking_set_frankfurt.loc[filtered_dates_winter_2016]\n",
    "booking_set_frankfurt_winter_2016\n",
    "frames2 = [booking_set_frankfurt_dec_2016, booking_set_frankfurt_winter_2016]\n",
    "winter_2016 = pd.concat(frames2)\n",
    "winter_2016"
   ]
  },
  {
   "cell_type": "code",
   "execution_count": null,
   "metadata": {},
   "outputs": [],
   "source": [
    "##March, April, Mai\n",
    "start_date_spring_2016 = '2016-03-01 00:00:00'\n",
    "end_date_spring_2016 = '2016-05-31 23:59:59'\n",
    "filtered_dates_spring_2016 = (booking_set_frankfurt['DATE_BOOKING'] >= start_date_spring_2016) & (booking_set_frankfurt['DATE_BOOKING'] <= end_date_spring_2016)\n",
    "booking_set_frankfurt_spring_2016 = booking_set_frankfurt.loc[filtered_dates_spring_2016]\n",
    "booking_set_frankfurt_spring_2016"
   ]
  },
  {
   "cell_type": "code",
   "execution_count": null,
   "metadata": {},
   "outputs": [],
   "source": [
    "##June, Juli, August\n",
    "start_date_summer_2016 = '2016-06-01 00:00:00'\n",
    "end_date_summer_2016 = '2016-08-31 23:59:59'\n",
    "filtered_dates_summer_2016 = (booking_set_frankfurt['DATE_BOOKING'] >= start_date_summer_2016) & (booking_set_frankfurt['DATE_BOOKING'] <= end_date_summer_2016)\n",
    "booking_set_frankfurt_summer_2016 = booking_set_frankfurt.loc[filtered_dates_summer_2016]\n",
    "booking_set_frankfurt_summer_2016"
   ]
  },
  {
   "cell_type": "code",
   "execution_count": null,
   "metadata": {},
   "outputs": [],
   "source": [
    "##September, October, November\n",
    "start_date_fall_2016 = '2016-09-01 00:00:00'\n",
    "end_date_fall_2016 = '2016-11-30 23:59:59'\n",
    "filtered_dates_fall_2016 = (booking_set_frankfurt['DATE_BOOKING'] >= start_date_fall_2016) & (booking_set_frankfurt['DATE_BOOKING'] <= end_date_fall_2016)\n",
    "booking_set_frankfurt_fall_2016 = booking_set_frankfurt.loc[filtered_dates_fall_2016]\n",
    "booking_set_frankfurt_fall_2016"
   ]
  },
  {
   "cell_type": "code",
   "execution_count": null,
   "metadata": {},
   "outputs": [],
   "source": [
    "#simple plot for the bookings per season 2016\n",
    "data2016 = {'Season':['Winter', 'Spring', 'Summer', 'Fall'],\n",
    "        'Amount':[114410, 228803, 340352, 231473]}\n",
    "data2016 = pd.DataFrame(data2016)\n",
    "data2016.plot('Season', kind='bar')"
   ]
  },
  {
   "cell_type": "code",
   "execution_count": null,
   "metadata": {},
   "outputs": [],
   "source": [
    "#compare the explanation for 2015\n",
    "#again total number of bookings increased for each season in respect to 2015"
   ]
  },
  {
   "cell_type": "markdown",
   "metadata": {},
   "source": [
    "## Amount of bookings in respect to the week days\n"
   ]
  },
  {
   "cell_type": "code",
   "execution_count": null,
   "metadata": {},
   "outputs": [],
   "source": [
    "#group bookings by the day of week in the year 2015\n",
    "hours_size_2015 = booking_set_frankfurt_2015.groupby(booking_set_frankfurt_2015['DATE_BOOKING'].dt.weekday_name).size()"
   ]
  },
  {
   "cell_type": "code",
   "execution_count": null,
   "metadata": {},
   "outputs": [],
   "source": [
    "hours_size_2015"
   ]
  },
  {
   "cell_type": "code",
   "execution_count": null,
   "metadata": {},
   "outputs": [],
   "source": [
    "hours_size_2015.plot(kind='bar')"
   ]
  },
  {
   "cell_type": "code",
   "execution_count": null,
   "metadata": {},
   "outputs": [],
   "source": [
    "#booking frequencies on individual days of the week are approximately similar\n",
    "#with the exception of weekend days, significantly fewer bookings are made. \n",
    "#Sunday is the minimum where most people don't have to work.\n",
    "#on Wednesday most bookings are made"
   ]
  },
  {
   "cell_type": "code",
   "execution_count": null,
   "metadata": {},
   "outputs": [],
   "source": [
    "#group bookings by the day of week in the year 2016\n",
    "hours_size_2016 = booking_set_frankfurt_2016.groupby(booking_set_frankfurt_2016['DATE_BOOKING'].dt.weekday_name).size()"
   ]
  },
  {
   "cell_type": "code",
   "execution_count": null,
   "metadata": {},
   "outputs": [],
   "source": [
    "hours_size_2016.plot(kind='bar')"
   ]
  },
  {
   "cell_type": "code",
   "execution_count": null,
   "metadata": {},
   "outputs": [],
   "source": [
    "#compare the explanation for 2015\n",
    "#again total number of bookings increased for each weekday in respect to 2015"
   ]
  },
  {
   "cell_type": "markdown",
   "metadata": {},
   "source": [
    "## Amount of bookings for the different hours during the day"
   ]
  },
  {
   "cell_type": "markdown",
   "metadata": {},
   "source": [
    "### Bookings per hour/day 2015"
   ]
  },
  {
   "cell_type": "code",
   "execution_count": null,
   "metadata": {},
   "outputs": [],
   "source": [
    "#2015 #bookings per hours the day\n",
    "hours_day_2015 = booking_set_frankfurt_2015.groupby(booking_set_frankfurt_2015['DATE_BOOKING'].dt.hour).size()"
   ]
  },
  {
   "cell_type": "code",
   "execution_count": null,
   "metadata": {},
   "outputs": [],
   "source": [
    "hours_day_2015"
   ]
  },
  {
   "cell_type": "code",
   "execution_count": null,
   "metadata": {},
   "outputs": [],
   "source": [
    "hours_day_2015.plot(kind='bar')"
   ]
  },
  {
   "cell_type": "code",
   "execution_count": null,
   "metadata": {},
   "outputs": [],
   "source": [
    "#booking frequency of individual hours varies greatly\n",
    "#in the morning (7.00 am - 9.00 am) and in the evening (4.00 pm - 7.00 pm), booking rates are on top\n",
    "#regarding the normal working hours of employees, keyword 'rushhour'\n",
    "#one might assume that many customers rent bicycles to get to work and come back\n",
    "#in the evening, the booking time varies more than in the morning\n",
    "#this may indicate that most employees start at a similar time but end the working day at more different times"
   ]
  },
  {
   "cell_type": "code",
   "execution_count": null,
   "metadata": {},
   "outputs": [],
   "source": [
    "#2015 get the different time formats out of the date booking\n",
    "booking_set_frankfurt_2015['year'] = booking_set_frankfurt_2015['DATE_BOOKING'].dt.strftime('%Y')\n",
    "booking_set_frankfurt_2015['month'] = booking_set_frankfurt_2015['DATE_BOOKING'].dt.strftime('%b')\n",
    "booking_set_frankfurt_2015['date'] = booking_set_frankfurt_2015['DATE_BOOKING'].dt.strftime('%d')\n",
    "booking_set_frankfurt_2015['hour'] = booking_set_frankfurt_2015['DATE_BOOKING'].dt.strftime('%H')\n",
    "booking_set_frankfurt_2015['Day_of_week'] = booking_set_frankfurt_2015['DATE_BOOKING'].dt.strftime('%a')"
   ]
  },
  {
   "cell_type": "code",
   "execution_count": null,
   "metadata": {},
   "outputs": [],
   "source": [
    "new_booking_set_frankfurt_2015 = booking_set_frankfurt_2015.loc[:,['BOOKING_HAL_ID', 'Day_of_week', 'hour']]"
   ]
  },
  {
   "cell_type": "code",
   "execution_count": null,
   "metadata": {},
   "outputs": [],
   "source": [
    "#now get it in a nice dispay py pivoting the table\n",
    "pd.set_option('display.max_columns', 24)\n",
    "res = new_booking_set_frankfurt_2015.groupby(['Day_of_week', 'hour'], as_index = False).count()"
   ]
  },
  {
   "cell_type": "markdown",
   "metadata": {},
   "source": [
    "### Table of booking Amount for the hours of the week days (2015)"
   ]
  },
  {
   "cell_type": "code",
   "execution_count": null,
   "metadata": {},
   "outputs": [],
   "source": [
    "#make day_of_week to index\n",
    "#hour should be new column \n",
    "res.pivot(index='Day_of_week', columns='hour', values='BOOKING_HAL_ID')"
   ]
  },
  {
   "cell_type": "markdown",
   "metadata": {},
   "source": [
    "### Amount of bookings for the hours of the day (2016)"
   ]
  },
  {
   "cell_type": "code",
   "execution_count": null,
   "metadata": {
    "scrolled": false
   },
   "outputs": [],
   "source": [
    "#2016 #gesamte Stunden in der Woche\n",
    "hours_day_2016 = booking_set_frankfurt_2016.groupby(booking_set_frankfurt_2016['DATE_BOOKING'].dt.hour).size()"
   ]
  },
  {
   "cell_type": "code",
   "execution_count": null,
   "metadata": {},
   "outputs": [],
   "source": [
    "hours_day_2016"
   ]
  },
  {
   "cell_type": "code",
   "execution_count": null,
   "metadata": {},
   "outputs": [],
   "source": [
    "hours_day_2016.plot(kind='bar')"
   ]
  },
  {
   "cell_type": "code",
   "execution_count": null,
   "metadata": {},
   "outputs": [],
   "source": [
    "#compared the explanation for 2015, the same trend can be seen\n",
    "#at night, the least bikes are rented\n",
    "#as already mentioned, more bicycles are rented in total than in 2015"
   ]
  },
  {
   "cell_type": "code",
   "execution_count": null,
   "metadata": {},
   "outputs": [],
   "source": [
    "#the same procedure for 2016\n",
    "booking_set_frankfurt_2016['year'] = booking_set_frankfurt_2016['DATE_BOOKING'].dt.strftime('%Y')\n",
    "booking_set_frankfurt_2016['month'] = booking_set_frankfurt_2016['DATE_BOOKING'].dt.strftime('%b')\n",
    "booking_set_frankfurt_2016['date'] = booking_set_frankfurt_2016['DATE_BOOKING'].dt.strftime('%d')\n",
    "booking_set_frankfurt_2016['hour'] = booking_set_frankfurt_2016['DATE_BOOKING'].dt.strftime('%H')\n",
    "booking_set_frankfurt_2016['Day_of_week'] = booking_set_frankfurt_2016['DATE_BOOKING'].dt.strftime('%a')\n",
    "\n",
    "new_booking_set_frankfurt_2016 = booking_set_frankfurt_2016.loc[:,['BOOKING_HAL_ID', 'Day_of_week', 'hour']]\n",
    "\n",
    "res2 = new_booking_set_frankfurt_2016.groupby(['Day_of_week', 'hour'], as_index = False).count()"
   ]
  },
  {
   "cell_type": "markdown",
   "metadata": {},
   "source": [
    "### Table of bookings for the different hours of the week days (2016)"
   ]
  },
  {
   "cell_type": "code",
   "execution_count": null,
   "metadata": {},
   "outputs": [],
   "source": [
    "res2.pivot(index='Day_of_week', columns='hour', values='BOOKING_HAL_ID')"
   ]
  },
  {
   "cell_type": "markdown",
   "metadata": {},
   "source": [
    "## Comparison of the amount of bookings per month in 2015/2016"
   ]
  },
  {
   "cell_type": "code",
   "execution_count": null,
   "metadata": {},
   "outputs": [],
   "source": [
    "booking_months1 = booking_set_frankfurt_2015.loc[:,['BOOKING_HAL_ID', 'month']]\n",
    "firstyear = booking_months1.groupby([\"month\"], as_index = False).count()\n",
    "booking_months2 = booking_set_frankfurt_2016.loc[:,['BOOKING_HAL_ID', 'month']]\n",
    "secondyear = booking_months2.groupby([\"month\"], as_index = False).count()"
   ]
  },
  {
   "cell_type": "code",
   "execution_count": null,
   "metadata": {},
   "outputs": [],
   "source": [
    "#this is needed to sort the table after the days of the week\n",
    "sorter = ['Jan', 'Feb', 'Mar', 'Apr', 'May', 'Jun', 'Jul', 'Aug', 'Sep', 'Oct', 'Nov', 'Dec']\n",
    "sorterIndex = dict(zip(sorter,range(len(sorter))))\n",
    "firstyear['Day_id'] = firstyear.index\n",
    "firstyear['Day_id'] = firstyear['month'].map(sorterIndex)\n",
    "firstyear.sort_values('Day_id', inplace=True)"
   ]
  },
  {
   "cell_type": "code",
   "execution_count": null,
   "metadata": {},
   "outputs": [],
   "source": [
    "#this is needed to sort the table after the days of the week\n",
    "sorter = ['Jan', 'Feb', 'Mar', 'Apr', 'May', 'Jun', 'Jul', 'Aug', 'Sep', 'Oct', 'Nov', 'Dec']\n",
    "sorterIndex = dict(zip(sorter,range(len(sorter))))\n",
    "secondyear['Day_id'] = secondyear.index\n",
    "secondyear['Day_id'] = secondyear['month'].map(sorterIndex)\n",
    "secondyear.sort_values('Day_id', inplace=True)"
   ]
  },
  {
   "cell_type": "code",
   "execution_count": null,
   "metadata": {},
   "outputs": [],
   "source": [
    "#this plot shows the bikes at the main train station that are leaving in violet and that are arriving in red\n",
    "# Create the plot space upon which to plot the data \n",
    "fig, ax = plt.subplots(figsize=(9, 7))\n",
    "\n",
    "# Add the x-axis and the y-axis to the plot\n",
    "ax.plot(firstyear['month'],\n",
    "        firstyear['BOOKING_HAL_ID'], '-o',\n",
    "        color='purple')\n",
    "\n",
    "ax.plot(secondyear['month'],\n",
    "        secondyear['BOOKING_HAL_ID'], '-o',\n",
    "        color='red')\n",
    "# Set title and labels for axes\n",
    "ax.set(xlabel=\"Months\",\n",
    "       ylabel=\"Amount of bookings\",\n",
    "       title=\"Bookings in the year 2015 and 2016\")\n",
    "plt.show()"
   ]
  },
  {
   "cell_type": "code",
   "execution_count": null,
   "metadata": {},
   "outputs": [],
   "source": [
    "#bookings for 2016 outweigh the 2015 bookings in each month\n",
    "#2016: a rapid increase in bookings compared to the previous year can be seen between April and September\n",
    "#in some cases, there are outliers that do not fit into the scheme, such as the decrease in February 2015 or \n",
    "#an extreme rise between March and April in 2016. \n",
    "#since the booking quantities are concerned here, not outliers should be expected.\n",
    "#this may indicate that bookings are sometimes flexible or could determined by other factors."
   ]
  },
  {
   "cell_type": "markdown",
   "metadata": {},
   "source": [
    "## Average duration of bookings"
   ]
  },
  {
   "cell_type": "code",
   "execution_count": null,
   "metadata": {},
   "outputs": [],
   "source": [
    "# in order to use the same variable name as above, we read the booking dataset in the same way as before"
   ]
  },
  {
   "cell_type": "code",
   "execution_count": null,
   "metadata": {},
   "outputs": [],
   "source": [
    "#this goes for both years\n",
    "#first get the dates\n",
    "booking_set = pd.read_csv(\"OPENDATA_BOOKING_CALL_A_BIKE.csv\", delimiter=';')\n",
    "\n",
    "booking_set_frankfurt = booking_set[booking_set['CITY_RENTAL_ZONE'].str.contains('Frankfurt')]\n",
    "\n",
    "booking_set_frankfurt.sort_values(['DATE_BOOKING'], axis=0, \n",
    "                 ascending=True, inplace=True) #sort the data after the date, ascending\n",
    "booking_set_frankfurt['DATE_BOOKING'] = pd.to_datetime(booking_set_frankfurt['DATE_BOOKING'])\n",
    "booking_set_frankfurt['DATE_BOOKING'].dt.strftime('%Y-%m-%d %X')\n",
    "start_date_20152016 = '2015-01-01 00:00:00'\n",
    "end_date_20152016 = '2016-12-31 23:59:59'\n",
    "filtered_dates_20152016 = (booking_set_frankfurt['DATE_BOOKING'] >= start_date_20152016) & (booking_set_frankfurt['DATE_BOOKING'] <= end_date_20152016)\n",
    "booking_set_frankfurt_20152016 = booking_set_frankfurt.loc[filtered_dates_20152016]"
   ]
  },
  {
   "cell_type": "code",
   "execution_count": null,
   "metadata": {},
   "outputs": [],
   "source": [
    "booking_set_frankfurt_20152016['DATE_UNTIL'] = pd.to_datetime(booking_set_frankfurt_20152016['DATE_UNTIL'])\n",
    "booking_set_frankfurt_20152016['DATE_UNTIL'].dt.strftime('%Y-%m-%d %X')\n",
    "booking_set_frankfurt_20152016['DATE_FROM'] = pd.to_datetime(booking_set_frankfurt_20152016['DATE_FROM'])\n",
    "booking_set_frankfurt_20152016['DATE_FROM'].dt.strftime('%Y-%m-%d %X')"
   ]
  },
  {
   "cell_type": "code",
   "execution_count": null,
   "metadata": {},
   "outputs": [],
   "source": [
    "booking_set_frankfurt_20152016['duration'] = booking_set_frankfurt_20152016['DATE_UNTIL'] - booking_set_frankfurt_20152016['DATE_FROM']"
   ]
  },
  {
   "cell_type": "markdown",
   "metadata": {},
   "source": [
    "### Amount of bookings below a certain minute limit"
   ]
  },
  {
   "cell_type": "code",
   "execution_count": null,
   "metadata": {},
   "outputs": [],
   "source": [
    "#run this through multiple times by changing the minute count to get the hard coded result below\n",
    "duration_oneminute = booking_set_frankfurt_20152016[booking_set_frankfurt_20152016.duration < '00:05:00']\n",
    "print(duration_oneminute.shape)"
   ]
  },
  {
   "cell_type": "markdown",
   "metadata": {},
   "source": [
    "Amount of bikes that are under certain amount of minutes duration:"
   ]
  },
  {
   "cell_type": "markdown",
   "metadata": {},
   "source": [
    "Hardcoded result from before: \n",
    "1. 1 Minute: 5412\n",
    "2. 2 Minutes: 21464\n",
    "3. 3 Minutes: 44362\n",
    "4. 4 Minutes: 94586\n",
    "5. 5 Minutes: 166839"
   ]
  },
  {
   "cell_type": "markdown",
   "metadata": {},
   "source": [
    "### Amount of bookings above a certain day limit"
   ]
  },
  {
   "cell_type": "code",
   "execution_count": null,
   "metadata": {},
   "outputs": [],
   "source": [
    "#same as before\n",
    "duration_oneday = booking_set_frankfurt_20152016[booking_set_frankfurt_20152016.duration > '14 days 00:00:00']\n",
    "print(duration_oneday.shape)"
   ]
  },
  {
   "cell_type": "markdown",
   "metadata": {},
   "source": [
    "Hardcoded: Amount of bikes that are over a certain amount of days duration:\n",
    "1. 1 Day: 3115\n",
    "2. 2 Days: 1159\n",
    "3. 3 Days: 661\n",
    "4. 4 Days: 440\n",
    "5. Days: 323\n",
    "6. Days: 239\n",
    "7. Days: 198\n",
    "8. Days: 162\n",
    "9. Days: 146\n",
    "10. Days: 136\n",
    "11. Days: 125\n",
    "12. Days: 109\n",
    "13. Days: 98\n",
    "14. Days: 94"
   ]
  },
  {
   "cell_type": "code",
   "execution_count": null,
   "metadata": {},
   "outputs": [],
   "source": [
    "booking_set_frankfurt_20152016['year'] = booking_set_frankfurt_20152016['DATE_BOOKING'].dt.strftime('%Y')\n",
    "booking_set_frankfurt_20152016['month'] = booking_set_frankfurt_20152016['DATE_BOOKING'].dt.strftime('%b')\n",
    "booking_set_frankfurt_20152016['date'] = booking_set_frankfurt_20152016['DATE_BOOKING'].dt.strftime('%d')\n",
    "booking_set_frankfurt_20152016['hour'] = booking_set_frankfurt_20152016['DATE_BOOKING'].dt.strftime('%H')\n",
    "booking_set_frankfurt_20152016['Day_of_week'] = booking_set_frankfurt_20152016['DATE_BOOKING'].dt.strftime('%a')"
   ]
  },
  {
   "cell_type": "code",
   "execution_count": null,
   "metadata": {},
   "outputs": [],
   "source": [
    "booking_duration = booking_set_frankfurt_20152016.loc[:,['BOOKING_HAL_ID', 'Day_of_week', 'hour', 'duration']]\n",
    "booking_duration"
   ]
  },
  {
   "cell_type": "markdown",
   "metadata": {},
   "source": [
    "### Mean duration for the week days"
   ]
  },
  {
   "cell_type": "code",
   "execution_count": null,
   "metadata": {},
   "outputs": [],
   "source": [
    "booking_duration['duration'] = pd.to_numeric(booking_duration['duration'])\n",
    "booking_duration_mean = booking_duration.groupby([\"Day_of_week\"], as_index = False)['duration'].mean()\n",
    "booking_duration_mean['duration'] = pd.to_timedelta(booking_duration_mean['duration'])\n",
    "booking_duration_mean"
   ]
  },
  {
   "cell_type": "code",
   "execution_count": null,
   "metadata": {},
   "outputs": [],
   "source": [
    "#this is needed to sort the table after the days of the week\n",
    "sorter = ['Mon', 'Tue', 'Wed', 'Thu', 'Fri', 'Sat', 'Sun']\n",
    "sorterIndex = dict(zip(sorter,range(len(sorter))))\n",
    "booking_duration_mean['Day_id'] = booking_duration_mean.index\n",
    "booking_duration_mean['Day_id'] = booking_duration_mean['Day_of_week'].map(sorterIndex)\n",
    "booking_duration_mean.sort_values('Day_id', inplace=True)"
   ]
  },
  {
   "cell_type": "code",
   "execution_count": null,
   "metadata": {},
   "outputs": [],
   "source": [
    "booking_duration_mean"
   ]
  },
  {
   "cell_type": "code",
   "execution_count": null,
   "metadata": {},
   "outputs": [],
   "source": [
    "#round the time to make it better for plotting\n",
    "booking_duration_mean['duration']  = round(booking_duration_mean['duration'].dt.total_seconds()/60)"
   ]
  },
  {
   "cell_type": "code",
   "execution_count": null,
   "metadata": {},
   "outputs": [],
   "source": [
    "#plot for the mean duration per week day\n",
    "y_pos = np.arange(len(booking_duration_mean['Day_of_week']))\n",
    "plt.bar(y_pos, booking_duration_mean['duration'], align='center', alpha=0.5)\n",
    "plt.xticks(y_pos, booking_duration_mean['Day_of_week'])\n",
    "plt.ylabel('Duration')\n",
    "plt.title('Mean Duration per Week Day')\n",
    "\n",
    "plt.show()"
   ]
  },
  {
   "cell_type": "code",
   "execution_count": null,
   "metadata": {},
   "outputs": [],
   "source": [
    "#booking mean duration on weekdays are approximately similar, except the weekend\n",
    "#there, the booking time is higher on average. \n",
    "#Saturday exceeds Sunday.\n",
    "#bicycles could be used in the week to drive to and from work.\n",
    "#on weekend the bikes may be used for private rides without a defined start- and final destination or without \n",
    "#time pressure"
   ]
  },
  {
   "cell_type": "markdown",
   "metadata": {},
   "source": [
    "### mean duration for the different hours a day"
   ]
  },
  {
   "cell_type": "code",
   "execution_count": null,
   "metadata": {},
   "outputs": [],
   "source": [
    "#Now do the same process for hours of the day"
   ]
  },
  {
   "cell_type": "code",
   "execution_count": null,
   "metadata": {},
   "outputs": [],
   "source": [
    "booking_duration = booking_set_frankfurt_20152016.loc[:,['BOOKING_HAL_ID', 'Day_of_week', 'hour', 'duration']]\n",
    "booking_duration"
   ]
  },
  {
   "cell_type": "code",
   "execution_count": null,
   "metadata": {},
   "outputs": [],
   "source": [
    "booking_duration['duration'] = pd.to_numeric(booking_duration['duration'])\n",
    "booking_duration_mean = booking_duration.groupby([\"hour\"], as_index = False)['duration'].mean()\n",
    "booking_duration_mean['duration'] = pd.to_timedelta(booking_duration_mean['duration'])\n",
    "booking_duration_mean"
   ]
  },
  {
   "cell_type": "code",
   "execution_count": null,
   "metadata": {},
   "outputs": [],
   "source": [
    "booking_duration_mean['duration']  = round(booking_duration_mean['duration'].dt.total_seconds()/60)"
   ]
  },
  {
   "cell_type": "code",
   "execution_count": null,
   "metadata": {},
   "outputs": [],
   "source": [
    "#plot for the mean duration per week day\n",
    "y_pos = np.arange(len(booking_duration_mean['hour']))\n",
    "plt.bar(y_pos, booking_duration_mean['duration'], align='center', alpha=0.5)\n",
    "plt.xticks(y_pos, booking_duration_mean['hour'])\n",
    "plt.ylabel('Duration')\n",
    "plt.title('Mean Duration per Hour of the day')\n",
    "\n",
    "plt.show()"
   ]
  },
  {
   "cell_type": "code",
   "execution_count": null,
   "metadata": {},
   "outputs": [],
   "source": [
    "#the average travel time depending on the booking hour of the day is shown.\n",
    "#at each hour, the average journey time is between 15 and 30 minutes.\n",
    "#this suggests that rented bicycles are mostly used to cope with journey times between this interval.\n",
    "#it is noticeable that booked bicycles between 5.00 a.m. and 9.00 a.m. have significantly shorter travel times than \n",
    "#the other hours.\n",
    "#customers who book a bike during this time may be in a hurry.\n",
    "#if the journey time lasts longer, customers choose a different kind of transport. "
   ]
  },
  {
   "cell_type": "markdown",
   "metadata": {},
   "source": [
    "### Duration for the different seasons"
   ]
  },
  {
   "cell_type": "code",
   "execution_count": null,
   "metadata": {},
   "outputs": [],
   "source": [
    "#this goes for both years\n",
    "#first get the dates\n",
    "booking_set = pd.read_csv(\"OPENDATA_BOOKING_CALL_A_BIKE.csv\", delimiter=';')\n",
    "\n",
    "booking_set_frankfurt = booking_set[booking_set['CITY_RENTAL_ZONE'].str.contains('Frankfurt')]\n",
    "\n",
    "booking_set_frankfurt.sort_values(['DATE_BOOKING'], axis=0, \n",
    "                 ascending=True, inplace=True) #sort the data after the date, ascending\n",
    "booking_set_frankfurt['DATE_BOOKING'] = pd.to_datetime(booking_set_frankfurt['DATE_BOOKING'])\n",
    "booking_set_frankfurt['DATE_BOOKING'].dt.strftime('%Y-%m-%d %X')\n",
    "start_date_20152016 = '2015-01-01 00:00:00'\n",
    "end_date_20152016 = '2016-12-31 23:59:59'\n",
    "filtered_dates_20152016 = (booking_set_frankfurt['DATE_BOOKING'] >= start_date_20152016) & (booking_set_frankfurt['DATE_BOOKING'] <= end_date_20152016)\n",
    "booking_set_frankfurt_20152016 = booking_set_frankfurt.loc[filtered_dates_20152016]"
   ]
  },
  {
   "cell_type": "code",
   "execution_count": null,
   "metadata": {},
   "outputs": [],
   "source": [
    "booking_set_frankfurt_20152016['DATE_UNTIL'] = pd.to_datetime(booking_set_frankfurt_20152016['DATE_UNTIL'])\n",
    "booking_set_frankfurt_20152016['DATE_UNTIL'].dt.strftime('%Y-%m-%d %X')\n",
    "booking_set_frankfurt_20152016['DATE_FROM'] = pd.to_datetime(booking_set_frankfurt_20152016['DATE_FROM'])\n",
    "booking_set_frankfurt_20152016['DATE_FROM'].dt.strftime('%Y-%m-%d %X')"
   ]
  },
  {
   "cell_type": "code",
   "execution_count": null,
   "metadata": {},
   "outputs": [],
   "source": [
    "booking_set_frankfurt_20152016['duration'] = booking_set_frankfurt_20152016['DATE_UNTIL'] - booking_set_frankfurt_20152016['DATE_FROM']\n",
    "booking_duration = booking_set_frankfurt_20152016.loc[:,['BOOKING_HAL_ID', 'DATE_BOOKING', 'duration']]"
   ]
  },
  {
   "cell_type": "code",
   "execution_count": null,
   "metadata": {},
   "outputs": [],
   "source": [
    "booking_duration"
   ]
  },
  {
   "cell_type": "code",
   "execution_count": null,
   "metadata": {},
   "outputs": [],
   "source": [
    "#winter\n",
    "start_date1 = '2015-01-01 00:00:00'\n",
    "end_date1 = '2015-02-28 23:59:59'\n",
    "filtered_dates_winter_one = (booking_duration['DATE_BOOKING'] >= start_date1) & (booking_duration['DATE_BOOKING'] <= end_date1) \n",
    "booking_set_frankfurt_winter_one = booking_duration.loc[filtered_dates_winter_one]\n",
    "booking_set_frankfurt_winter_one"
   ]
  },
  {
   "cell_type": "code",
   "execution_count": null,
   "metadata": {},
   "outputs": [],
   "source": [
    "#winter\n",
    "start_date2 = '2015-12-01 00:00:00'\n",
    "end_date2 = '2016-02-29 23:59:59'\n",
    "filtered_dates_winter_two = (booking_duration['DATE_BOOKING'] >= start_date2) & (booking_duration['DATE_BOOKING'] <= end_date2) \n",
    "booking_set_frankfurt_winter_two = booking_duration.loc[filtered_dates_winter_two]\n",
    "booking_set_frankfurt_winter_two"
   ]
  },
  {
   "cell_type": "code",
   "execution_count": null,
   "metadata": {},
   "outputs": [],
   "source": [
    "#winter\n",
    "start_date3 = '2016-12-01 00:00:00'\n",
    "end_date3 = '2016-12-31 23:59:59'\n",
    "filtered_dates_winter_three = (booking_duration['DATE_BOOKING'] >= start_date3) & (booking_duration['DATE_BOOKING'] <= end_date3) \n",
    "booking_set_frankfurt_winter_three = booking_duration.loc[filtered_dates_winter_three]\n",
    "booking_set_frankfurt_winter_three"
   ]
  },
  {
   "cell_type": "code",
   "execution_count": null,
   "metadata": {},
   "outputs": [],
   "source": [
    "#winter\n",
    "frames = [booking_set_frankfurt_winter_one, booking_set_frankfurt_winter_two, booking_set_frankfurt_winter_three]\n",
    "winter = pd.concat(frames)"
   ]
  },
  {
   "cell_type": "code",
   "execution_count": null,
   "metadata": {},
   "outputs": [],
   "source": [
    "winter['duration'] = pd.to_numeric(winter['duration'])\n",
    "winter_duration_mean = winter['duration'].mean()\n",
    "winter_duration_mean = pd.to_timedelta(winter_duration_mean)\n",
    "winter_duration_mean"
   ]
  },
  {
   "cell_type": "code",
   "execution_count": null,
   "metadata": {},
   "outputs": [],
   "source": [
    "#spring"
   ]
  },
  {
   "cell_type": "code",
   "execution_count": null,
   "metadata": {},
   "outputs": [],
   "source": [
    "start_date1 = '2015-03-01 00:00:00'\n",
    "end_date1 = '2015-05-31 23:59:59'\n",
    "filtered_dates_spring_one = (booking_duration['DATE_BOOKING'] >= start_date1) & (booking_duration['DATE_BOOKING'] <= end_date1) \n",
    "booking_set_frankfurt_spring_one = booking_duration.loc[filtered_dates_spring_one]\n",
    "booking_set_frankfurt_spring_one"
   ]
  },
  {
   "cell_type": "code",
   "execution_count": null,
   "metadata": {},
   "outputs": [],
   "source": [
    "start_date2 = '2016-03-01 00:00:00'\n",
    "end_date2 = '2016-05-31 23:59:59'\n",
    "filtered_dates_spring_two = (booking_duration['DATE_BOOKING'] >= start_date1) & (booking_duration['DATE_BOOKING'] <= end_date1) \n",
    "booking_set_frankfurt_spring_two = booking_duration.loc[filtered_dates_spring_two]\n",
    "booking_set_frankfurt_spring_two"
   ]
  },
  {
   "cell_type": "code",
   "execution_count": null,
   "metadata": {},
   "outputs": [],
   "source": [
    "#spring\n",
    "frames = [booking_set_frankfurt_spring_one, booking_set_frankfurt_spring_two]\n",
    "spring = pd.concat(frames)"
   ]
  },
  {
   "cell_type": "code",
   "execution_count": null,
   "metadata": {},
   "outputs": [],
   "source": [
    "spring['duration'] = pd.to_numeric(spring['duration'])\n",
    "spring_duration_mean = spring['duration'].mean()\n",
    "spring_duration_mean = pd.to_timedelta(spring_duration_mean)\n",
    "spring_duration_mean"
   ]
  },
  {
   "cell_type": "code",
   "execution_count": null,
   "metadata": {},
   "outputs": [],
   "source": [
    "#summer"
   ]
  },
  {
   "cell_type": "code",
   "execution_count": null,
   "metadata": {},
   "outputs": [],
   "source": [
    "start_date1 = '2015-06-01 00:00:00'\n",
    "end_date1 = '2015-08-31 23:59:59'\n",
    "filtered_dates_summer_one = (booking_duration['DATE_BOOKING'] >= start_date1) & (booking_duration['DATE_BOOKING'] <= end_date1) \n",
    "booking_set_frankfurt_summer_one = booking_duration.loc[filtered_dates_summer_one]\n",
    "booking_set_frankfurt_summer_one"
   ]
  },
  {
   "cell_type": "code",
   "execution_count": null,
   "metadata": {},
   "outputs": [],
   "source": [
    "start_date2 = '2016-06-01 00:00:00'\n",
    "end_date2 = '2016-08-31 23:59:59'\n",
    "filtered_dates_summer_two = (booking_duration['DATE_BOOKING'] >= start_date2) & (booking_duration['DATE_BOOKING'] <= end_date2) \n",
    "booking_set_frankfurt_summer_two = booking_duration.loc[filtered_dates_summer_two]\n",
    "booking_set_frankfurt_summer_two"
   ]
  },
  {
   "cell_type": "code",
   "execution_count": null,
   "metadata": {},
   "outputs": [],
   "source": [
    "frames = [booking_set_frankfurt_summer_one, booking_set_frankfurt_summer_two]\n",
    "summer = pd.concat(frames)"
   ]
  },
  {
   "cell_type": "code",
   "execution_count": null,
   "metadata": {},
   "outputs": [],
   "source": [
    "summer['duration'] = pd.to_numeric(summer['duration'])\n",
    "summer_duration_mean = summer['duration'].mean()\n",
    "summer_duration_mean = pd.to_timedelta(summer_duration_mean)\n",
    "summer_duration_mean"
   ]
  },
  {
   "cell_type": "code",
   "execution_count": null,
   "metadata": {},
   "outputs": [],
   "source": [
    "#fall"
   ]
  },
  {
   "cell_type": "code",
   "execution_count": null,
   "metadata": {},
   "outputs": [],
   "source": [
    "start_date1 = '2015-09-01 00:00:00'\n",
    "end_date1 = '2015-11-30 23:59:59'\n",
    "filtered_dates_fall_one = (booking_duration['DATE_BOOKING'] >= start_date1) & (booking_duration['DATE_BOOKING'] <= end_date1) \n",
    "booking_set_frankfurt_fall_one = booking_duration.loc[filtered_dates_fall_one]"
   ]
  },
  {
   "cell_type": "code",
   "execution_count": null,
   "metadata": {},
   "outputs": [],
   "source": [
    "start_date2 = '2016-09-01 00:00:00'\n",
    "end_date2 = '2016-11-30 23:59:59'\n",
    "filtered_dates_fall_two = (booking_duration['DATE_BOOKING'] >= start_date2) & (booking_duration['DATE_BOOKING'] <= end_date2) \n",
    "booking_set_frankfurt_fall_two = booking_duration.loc[filtered_dates_fall_two]"
   ]
  },
  {
   "cell_type": "code",
   "execution_count": null,
   "metadata": {},
   "outputs": [],
   "source": [
    "frames = [booking_set_frankfurt_fall_one, booking_set_frankfurt_fall_two]\n",
    "fall = pd.concat(frames)"
   ]
  },
  {
   "cell_type": "code",
   "execution_count": null,
   "metadata": {},
   "outputs": [],
   "source": [
    "fall['duration'] = pd.to_numeric(fall['duration'])\n",
    "fall_duration_mean = fall['duration'].mean()\n",
    "fall_duration_mean = pd.to_timedelta(fall_duration_mean)\n",
    "fall_duration_mean"
   ]
  },
  {
   "cell_type": "code",
   "execution_count": null,
   "metadata": {},
   "outputs": [],
   "source": [
    "#simple plot for the bookings per season\n",
    "seasons = {'Season':['Winter', 'Spring', 'Summer', 'Fall'],\n",
    "        'Amount':[winter_duration_mean, spring_duration_mean, summer_duration_mean , fall_duration_mean]}\n",
    "seasons = pd.DataFrame(seasons)\n",
    "seasons['Amount']  = round(seasons['Amount'].dt.total_seconds()/60)\n",
    "seasons.plot('Season', kind='bar')"
   ]
  },
  {
   "cell_type": "markdown",
   "metadata": {},
   "source": [
    "# Routes"
   ]
  },
  {
   "cell_type": "code",
   "execution_count": null,
   "metadata": {},
   "outputs": [],
   "source": [
    "booking_set_frankfurt.dropna() #remove NaN because those lines won't give us anything here"
   ]
  },
  {
   "cell_type": "code",
   "execution_count": null,
   "metadata": {},
   "outputs": [],
   "source": [
    "#use vehicle hal id to see how many vehicles are at one station at a time \n",
    "booking_set_frankfurt['VEHICLE_HAL_ID'].nunique()"
   ]
  },
  {
   "cell_type": "code",
   "execution_count": null,
   "metadata": {},
   "outputs": [],
   "source": [
    "booking_set_frankfurt['VEHICLE_HAL_ID'].unique() #gives out the vehicle ids in array form "
   ]
  },
  {
   "cell_type": "code",
   "execution_count": null,
   "metadata": {},
   "outputs": [],
   "source": [
    "#again change to the required dates\n",
    "booking_set_frankfurt.sort_values(['DATE_BOOKING'], axis=0, \n",
    "                 ascending=True, inplace=True) #sort the data after the date, ascending\n",
    "booking_set_frankfurt['DATE_BOOKING'] = pd.to_datetime(booking_set_frankfurt['DATE_BOOKING'])\n",
    "booking_set_frankfurt['DATE_BOOKING'].dt.strftime('%Y-%m-%d %X')\n",
    "start_date_20152016 = '2015-01-01 00:00:00'\n",
    "end_date_20152016 = '2016-12-31 23:59:59'\n",
    "filtered_dates_20152016 = (booking_set_frankfurt['DATE_BOOKING'] >= start_date_20152016) & (booking_set_frankfurt['DATE_BOOKING'] <= end_date_20152016)\n",
    "booking_set_frankfurt_20152016 = booking_set_frankfurt.loc[filtered_dates_20152016]"
   ]
  },
  {
   "cell_type": "code",
   "execution_count": null,
   "metadata": {},
   "outputs": [],
   "source": [
    "#set again a new table for the routes\n",
    "booking_set_frankfurt_20152016['year'] = booking_set_frankfurt_20152016['DATE_BOOKING'].dt.strftime('%Y')\n",
    "booking_set_frankfurt_20152016['month'] = booking_set_frankfurt_20152016['DATE_BOOKING'].dt.strftime('%b')\n",
    "booking_set_frankfurt_20152016['date'] = booking_set_frankfurt_20152016['DATE_BOOKING'].dt.strftime('%d')\n",
    "booking_set_frankfurt_20152016['hour'] = booking_set_frankfurt_20152016['DATE_BOOKING'].dt.strftime('%H')\n",
    "booking_set_frankfurt_20152016['Day_of_week'] = booking_set_frankfurt_20152016['DATE_BOOKING'].dt.strftime('%a')"
   ]
  },
  {
   "cell_type": "code",
   "execution_count": null,
   "metadata": {},
   "outputs": [],
   "source": [
    "booking_set_frankfurt_20152016"
   ]
  },
  {
   "cell_type": "code",
   "execution_count": null,
   "metadata": {},
   "outputs": [],
   "source": [
    "#select the columns that you need for the start station\n",
    "booking_vehicle_start = booking_set_frankfurt_20152016.loc[:,['BOOKING_HAL_ID', 'START_RENTAL_ZONE', 'START_RENTAL_ZONE_HAL_ID', 'VEHICLE_HAL_ID', 'Day_of_week', 'hour']]"
   ]
  },
  {
   "cell_type": "code",
   "execution_count": null,
   "metadata": {},
   "outputs": [],
   "source": [
    "booking_vehicle_start"
   ]
  },
  {
   "cell_type": "code",
   "execution_count": null,
   "metadata": {},
   "outputs": [],
   "source": [
    "booking_vehicle_start_two = booking_vehicle_start.groupby([\"START_RENTAL_ZONE\", \"Day_of_week\"], as_index = False)['VEHICLE_HAL_ID'].count()"
   ]
  },
  {
   "cell_type": "code",
   "execution_count": null,
   "metadata": {},
   "outputs": [],
   "source": [
    "booking_vehicle_start_two"
   ]
  },
  {
   "cell_type": "code",
   "execution_count": null,
   "metadata": {},
   "outputs": [],
   "source": [
    "#select one of the stations and plot how many bikes there are over the course of the day "
   ]
  },
  {
   "cell_type": "markdown",
   "metadata": {},
   "source": [
    "### Amount of vehicles at the main train station for the different week days"
   ]
  },
  {
   "cell_type": "code",
   "execution_count": null,
   "metadata": {},
   "outputs": [],
   "source": [
    "#station to select: Hauptbahnhof Haupteingang (Vorplatz) \n",
    "vehicles_station = booking_vehicle_start_two[booking_vehicle_start_two['START_RENTAL_ZONE'].str.contains('Hauptbahnhof Haupteingang')]"
   ]
  },
  {
   "cell_type": "code",
   "execution_count": null,
   "metadata": {},
   "outputs": [],
   "source": [
    "vehicles_station"
   ]
  },
  {
   "cell_type": "code",
   "execution_count": null,
   "metadata": {},
   "outputs": [],
   "source": [
    "#als erstes wie viele sind über die Wochentage da als Plot\n",
    "sorter = ['Mon', 'Tue', 'Wed', 'Thu', 'Fri', 'Sat', 'Sun']\n",
    "sorterIndex = dict(zip(sorter,range(len(sorter))))\n",
    "vehicles_station['Day_id'] = vehicles_station.index\n",
    "vehicles_station['Day_id'] = vehicles_station['Day_of_week'].map(sorterIndex)\n",
    "vehicles_station.sort_values('Day_id', inplace=True)\n",
    "y_pos = np.arange(len(vehicles_station['Day_of_week']))\n",
    "plt.bar(y_pos, vehicles_station['VEHICLE_HAL_ID'], align='center', alpha=0.5)\n",
    "plt.xticks(y_pos, vehicles_station['Day_of_week'])\n",
    "plt.ylabel('Amount of vehicles')\n",
    "plt.title('Amount of Vehicles at the main train station during the Week')\n",
    "\n",
    "plt.show()"
   ]
  },
  {
   "cell_type": "code",
   "execution_count": null,
   "metadata": {},
   "outputs": [],
   "source": [
    "#the main station is a transport node and a transition to train traffic\n",
    "#the plot shows a specific survey for the central station in terms of how many journeys have started from the main station\n",
    "#booking mean duration on weekdays are approximately similar, expect the weekend\n",
    "#one can assume that during the week many employees arrive by train in Frankfurt and then cycle to work (and going back)\n",
    "#at the weekend bikes may be used for private purposes, which is less in total"
   ]
  },
  {
   "cell_type": "markdown",
   "metadata": {},
   "source": [
    "### Amount of vehicles that arrive/leave the main train station over the day"
   ]
  },
  {
   "cell_type": "code",
   "execution_count": null,
   "metadata": {},
   "outputs": [],
   "source": [
    "#Plot the amount of vehicles at this station over the day\n",
    "booking_vehicle_start_three = booking_vehicle_start.groupby([\"START_RENTAL_ZONE\", \"hour\"], as_index = False)['VEHICLE_HAL_ID'].count()\n",
    "vehicles_station_hour = booking_vehicle_start_three[booking_vehicle_start_three['START_RENTAL_ZONE'].str.contains('Hauptbahnhof Haupteingang')]\n",
    "vehicles_station_hour"
   ]
  },
  {
   "cell_type": "code",
   "execution_count": null,
   "metadata": {},
   "outputs": [],
   "source": [
    "vehicles_station_hour['VEHICLE_HAL_ID'].sum()"
   ]
  },
  {
   "cell_type": "code",
   "execution_count": null,
   "metadata": {},
   "outputs": [],
   "source": [
    "#now also get leaving bikes for the following plot\n",
    "booking_vehicle_end = booking_set_frankfurt_20152016.loc[:,['BOOKING_HAL_ID', 'END_RENTAL_ZONE', 'END_RENTAL_ZONE_HAL_ID', 'VEHICLE_HAL_ID', 'Day_of_week', 'hour']]\n",
    "booking_vehicle_end_two = booking_vehicle_end.groupby([\"END_RENTAL_ZONE\", \"hour\"], as_index = False)['VEHICLE_HAL_ID'].count()\n",
    "vehicles_station_hour_end = booking_vehicle_end_two[booking_vehicle_end_two['END_RENTAL_ZONE'].str.contains('Hauptbahnhof Haupteingang')]\n",
    "vehicles_station_hour_end"
   ]
  },
  {
   "cell_type": "code",
   "execution_count": null,
   "metadata": {},
   "outputs": [],
   "source": [
    "vehicles_station_hour_end['VEHICLE_HAL_ID'].sum()"
   ]
  },
  {
   "cell_type": "code",
   "execution_count": null,
   "metadata": {},
   "outputs": [],
   "source": [
    "#this plot shows the bikes at the main train station that are leaving in violet and that are arriving in red\n",
    "# Create the plot space upon which to plot the data \n",
    "fig, ax = plt.subplots(figsize=(9, 7))\n",
    "\n",
    "# Add the x-axis and the y-axis to the plot\n",
    "ax.plot(vehicles_station_hour['hour'],\n",
    "        vehicles_station_hour['VEHICLE_HAL_ID'], '-o',\n",
    "        color='purple')\n",
    "\n",
    "ax.plot(vehicles_station_hour_end['hour'],\n",
    "        vehicles_station_hour_end['VEHICLE_HAL_ID'], '-o',\n",
    "        color='red')\n",
    "# Set title and labels for axes\n",
    "ax.set(xlabel=\"Hour of the Day\",\n",
    "       ylabel=\"Amount of vehicles\",\n",
    "       title=\"Amount of vehicles that start/end at the main train station over the day\")\n",
    "plt.show()"
   ]
  },
  {
   "cell_type": "code",
   "execution_count": null,
   "metadata": {},
   "outputs": [],
   "source": [
    "#in contrast to the general representation at what time of the day how many bikes are rented, a distinction is made here between start- and ending at the main station.\n",
    "#one can see that an extremely large number of bikes start in the morning and just as many bikes arrive in the evening\n",
    "#again regarding the normal working hours of employees, keyword 'rushhour'\n",
    "#this confirms the assumption that many customers rent bicycles to get to work and come back"
   ]
  },
  {
   "cell_type": "code",
   "execution_count": null,
   "metadata": {},
   "outputs": [],
   "source": [
    "#now these are total amounts lets see what the mean says"
   ]
  },
  {
   "cell_type": "markdown",
   "metadata": {},
   "source": [
    "### the mean of vehicles that start/end among all stations over the day"
   ]
  },
  {
   "cell_type": "code",
   "execution_count": null,
   "metadata": {},
   "outputs": [],
   "source": [
    "vehicle_start_count = booking_vehicle_start.groupby([\"START_RENTAL_ZONE\", \"hour\"], as_index = False)['VEHICLE_HAL_ID'].count()\n",
    "vehicle_start_count"
   ]
  },
  {
   "cell_type": "code",
   "execution_count": null,
   "metadata": {},
   "outputs": [],
   "source": [
    "vehicle_start_mean = vehicle_start_count.groupby([\"hour\"], as_index = False)['VEHICLE_HAL_ID'].mean()\n",
    "vehicle_start_mean['VEHICLE_HAL_ID']  = round(vehicle_start_mean['VEHICLE_HAL_ID']) #rude Werte\n",
    "vehicle_start_mean"
   ]
  },
  {
   "cell_type": "code",
   "execution_count": null,
   "metadata": {},
   "outputs": [],
   "source": [
    "#same for end\n",
    "vehicle_end_count = booking_vehicle_end.groupby([\"END_RENTAL_ZONE\", \"hour\"], as_index = False)['VEHICLE_HAL_ID'].count()\n",
    "vehicle_end_count"
   ]
  },
  {
   "cell_type": "code",
   "execution_count": null,
   "metadata": {},
   "outputs": [],
   "source": [
    "vehicle_end_mean = vehicle_end_count.groupby([\"hour\"], as_index = False)['VEHICLE_HAL_ID'].mean()\n",
    "vehicle_end_mean['VEHICLE_HAL_ID']  = round(vehicle_end_mean['VEHICLE_HAL_ID']) \n",
    "vehicle_end_mean"
   ]
  },
  {
   "cell_type": "code",
   "execution_count": null,
   "metadata": {
    "scrolled": true
   },
   "outputs": [],
   "source": [
    "# Create the plot space upon which to plot the data \n",
    "fig, ax = plt.subplots(figsize=(9, 7))\n",
    "\n",
    "# Add the x-axis and the y-axis to the plot\n",
    "ax.plot(vehicle_start_mean['hour'],\n",
    "        vehicle_start_mean['VEHICLE_HAL_ID'], '-o',\n",
    "        color='purple')\n",
    "\n",
    "ax.plot(vehicle_end_mean['hour'],\n",
    "        vehicle_end_mean['VEHICLE_HAL_ID'], '-o',\n",
    "        color='red')\n",
    "# Set title and labels for axes\n",
    "ax.set(xlabel=\"Hour of the Day\",\n",
    "       ylabel=\"Amount of vehicles\",\n",
    "       title=\"Average amount of bikes leaving/arriving at hour of the day\")\n",
    "plt.show()"
   ]
  },
  {
   "cell_type": "code",
   "execution_count": null,
   "metadata": {},
   "outputs": [],
   "source": [
    "#we see that this plot is not relevant since the mean duration of the bookings is under an hour\n",
    "#however we might look at a specific time interval closer"
   ]
  },
  {
   "cell_type": "markdown",
   "metadata": {},
   "source": [
    "### Amount of vehicles that leave/start at the main train station between 7 and 10 am"
   ]
  },
  {
   "cell_type": "code",
   "execution_count": null,
   "metadata": {},
   "outputs": [],
   "source": [
    "booking_vehicle_start = booking_set_frankfurt_20152016.loc[:,['BOOKING_HAL_ID', 'START_RENTAL_ZONE', 'START_RENTAL_ZONE_HAL_ID', 'VEHICLE_HAL_ID', 'DATE_BOOKING']]"
   ]
  },
  {
   "cell_type": "code",
   "execution_count": null,
   "metadata": {},
   "outputs": [],
   "source": [
    "booking_vehicle_start"
   ]
  },
  {
   "cell_type": "code",
   "execution_count": null,
   "metadata": {},
   "outputs": [],
   "source": [
    "booking_vehicle_start['time'] = booking_vehicle_start['DATE_BOOKING'].dt.strftime('%X')"
   ]
  },
  {
   "cell_type": "code",
   "execution_count": null,
   "metadata": {},
   "outputs": [],
   "source": [
    "booking_vehicle_start"
   ]
  },
  {
   "cell_type": "code",
   "execution_count": null,
   "metadata": {},
   "outputs": [],
   "source": [
    "booking_vehicle_start_2 = booking_vehicle_start.drop('DATE_BOOKING', axis=1)"
   ]
  },
  {
   "cell_type": "code",
   "execution_count": null,
   "metadata": {},
   "outputs": [],
   "source": [
    "booking_vehicle_start_3 = booking_vehicle_start_2.groupby([\"START_RENTAL_ZONE\", \"time\"], as_index = False)['VEHICLE_HAL_ID'].count()\n",
    "vehicles_station_4 = booking_vehicle_start_3[booking_vehicle_start_3['START_RENTAL_ZONE'].str.contains('Hauptbahnhof Haupteingang')]\n",
    "vehicles_station_4"
   ]
  },
  {
   "cell_type": "code",
   "execution_count": null,
   "metadata": {},
   "outputs": [],
   "source": [
    "start = '07:00:00'\n",
    "end = '10:00:00'\n",
    "filters = (vehicles_station_4['time'] >= start) & (vehicles_station_4['time'] <= end)\n",
    "vehicles_station_5 = vehicles_station_4.loc[filters]"
   ]
  },
  {
   "cell_type": "code",
   "execution_count": null,
   "metadata": {},
   "outputs": [],
   "source": [
    "vehicles_station_5"
   ]
  },
  {
   "cell_type": "code",
   "execution_count": null,
   "metadata": {},
   "outputs": [],
   "source": [
    "vehicles = vehicles_station_5.drop('START_RENTAL_ZONE', axis=1)\n",
    "vehicles['time'] = pd.to_datetime(vehicles['time'])\n",
    "vehicles2 = vehicles.set_index('time')\n",
    "vehicles2.plot(figsize=(20,10))\n"
   ]
  },
  {
   "cell_type": "code",
   "execution_count": null,
   "metadata": {},
   "outputs": [],
   "source": [
    "#?"
   ]
  },
  {
   "cell_type": "markdown",
   "metadata": {},
   "source": [
    "### Routes/Stations - Often used vs seldomly used"
   ]
  },
  {
   "cell_type": "code",
   "execution_count": null,
   "metadata": {},
   "outputs": [],
   "source": [
    "#select the columns that you need for the end station\n",
    "booking_vehicle_end = booking_set_frankfurt_20152016.loc[:,['BOOKING_HAL_ID', 'END_RENTAL_ZONE', 'END_RENTAL_ZONE_HAL_ID', 'Day_of_week', 'hour']]"
   ]
  },
  {
   "cell_type": "code",
   "execution_count": null,
   "metadata": {},
   "outputs": [],
   "source": [
    "#see the distribution of stations \n",
    "start_stations_busy = booking_set_frankfurt_20152016.groupby(booking_set_frankfurt_20152016['START_RENTAL_ZONE'], as_index=False).size()"
   ]
  },
  {
   "cell_type": "code",
   "execution_count": null,
   "metadata": {},
   "outputs": [],
   "source": [
    "start_stations_busy.nlargest(10)"
   ]
  },
  {
   "cell_type": "code",
   "execution_count": null,
   "metadata": {},
   "outputs": [],
   "source": [
    "start_stations_busy.nsmallest(10)"
   ]
  },
  {
   "cell_type": "code",
   "execution_count": null,
   "metadata": {},
   "outputs": [],
   "source": [
    "#let's check the most used actual routes that we have, not just start and end stations, but the combinations of both\n",
    "routes = booking_set_frankfurt.groupby(['START_RENTAL_ZONE','END_RENTAL_ZONE']).size().reset_index().rename(columns={0:'count'})\n",
    "routes"
   ]
  },
  {
   "cell_type": "code",
   "execution_count": null,
   "metadata": {},
   "outputs": [],
   "source": [
    "routes.sort_values(by=['count'])"
   ]
  }
 ],
 "metadata": {
  "kernelspec": {
   "display_name": "Python 3",
   "language": "python",
   "name": "python3"
  },
  "language_info": {
   "codemirror_mode": {
    "name": "ipython",
    "version": 3
   },
   "file_extension": ".py",
   "mimetype": "text/x-python",
   "name": "python",
   "nbconvert_exporter": "python",
   "pygments_lexer": "ipython3",
   "version": "3.7.4"
  },
  "toc": {
   "base_numbering": 1,
   "nav_menu": {},
   "number_sections": true,
   "sideBar": true,
   "skip_h1_title": false,
   "title_cell": "Table of Contents",
   "title_sidebar": "Contents",
   "toc_cell": false,
   "toc_position": {},
   "toc_section_display": true,
   "toc_window_display": false
  }
 },
 "nbformat": 4,
 "nbformat_minor": 2
}
