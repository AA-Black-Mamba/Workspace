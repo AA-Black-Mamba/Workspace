{
 "cells": [
  {
   "cell_type": "code",
   "execution_count": 1,
   "metadata": {},
   "outputs": [],
   "source": [
    "import numpy as np\n",
    "import pandas as pd\n",
    "import matplotlib as mpl\n",
    "import matplotlib.pyplot as plt\n",
    "import warnings\n",
    "warnings.filterwarnings('ignore');"
   ]
  },
  {
   "cell_type": "code",
   "execution_count": 2,
   "metadata": {
    "scrolled": true
   },
   "outputs": [],
   "source": [
    "all_data = pd.read_csv('./only_frankfurt.csv', delimiter=',')"
   ]
  },
  {
   "cell_type": "code",
   "execution_count": 3,
   "metadata": {},
   "outputs": [
    {
     "data": {
      "text/html": [
       "<div>\n",
       "<style scoped>\n",
       "    .dataframe tbody tr th:only-of-type {\n",
       "        vertical-align: middle;\n",
       "    }\n",
       "\n",
       "    .dataframe tbody tr th {\n",
       "        vertical-align: top;\n",
       "    }\n",
       "\n",
       "    .dataframe thead th {\n",
       "        text-align: right;\n",
       "    }\n",
       "</style>\n",
       "<table border=\"1\" class=\"dataframe\">\n",
       "  <thead>\n",
       "    <tr style=\"text-align: right;\">\n",
       "      <th></th>\n",
       "      <th>Unnamed: 0</th>\n",
       "      <th>BOOKING_HAL_ID</th>\n",
       "      <th>EFFECTIVE_CATEGORY_HAL_ID</th>\n",
       "      <th>VEHICLE_HAL_ID</th>\n",
       "      <th>VEHICLE_HAL_SRC</th>\n",
       "      <th>RENTAL_OBJECT_HAL_ID</th>\n",
       "      <th>RENTAL_OBJECT_HAL_SRC</th>\n",
       "      <th>VEHICLE_COMPANY_HAL_ID</th>\n",
       "      <th>DUTY_TRIP_X</th>\n",
       "      <th>CUSTOMER_HAL_ID</th>\n",
       "      <th>...</th>\n",
       "      <th>FRAME_BOOKING_HAL_ID</th>\n",
       "      <th>START_RENTAL_ZONE</th>\n",
       "      <th>START_RENTAL_ZONE_GROUP</th>\n",
       "      <th>END_RENTAL_ZONE</th>\n",
       "      <th>END_RENTAL_ZONE_GROUP</th>\n",
       "      <th>CITY_RENTAL_ZONE</th>\n",
       "      <th>ACTUAL_VEHICLE_CATEGORY</th>\n",
       "      <th>BOOKING_LENGTH_CLASSIFICATION</th>\n",
       "      <th>TECHNICAL_USER_NAME</th>\n",
       "      <th>TECHNICAL_USER_NAME_LONG</th>\n",
       "    </tr>\n",
       "  </thead>\n",
       "  <tbody>\n",
       "    <tr>\n",
       "      <td>0</td>\n",
       "      <td>0</td>\n",
       "      <td>23161966</td>\n",
       "      <td>50000</td>\n",
       "      <td>116335</td>\n",
       "      <td>cab_fahrrad</td>\n",
       "      <td>363130</td>\n",
       "      <td>autopos</td>\n",
       "      <td>500</td>\n",
       "      <td>1</td>\n",
       "      <td>AABCDA9CD1FDDD1A819B2C68F6F05C678EC9E918</td>\n",
       "      <td>...</td>\n",
       "      <td>NaN</td>\n",
       "      <td>Pfarrer-Perabo-Platz / Kleyerstraße</td>\n",
       "      <td>Pfarrer-Perabo-Platz / Kleyerstraße</td>\n",
       "      <td>NaN</td>\n",
       "      <td>NaN</td>\n",
       "      <td>Frankfurt am Main</td>\n",
       "      <td>Fahrrad</td>\n",
       "      <td>4) 60 bis 120 Minuten</td>\n",
       "      <td>NaN</td>\n",
       "      <td>NaN</td>\n",
       "    </tr>\n",
       "    <tr>\n",
       "      <td>1</td>\n",
       "      <td>3</td>\n",
       "      <td>23162025</td>\n",
       "      <td>50000</td>\n",
       "      <td>116424</td>\n",
       "      <td>cab_fahrrad</td>\n",
       "      <td>381903</td>\n",
       "      <td>autopos</td>\n",
       "      <td>500</td>\n",
       "      <td>1</td>\n",
       "      <td>AABCDA9CD1FDDD1A819B2C68F6F05C678EC9E918</td>\n",
       "      <td>...</td>\n",
       "      <td>NaN</td>\n",
       "      <td>Industriehof</td>\n",
       "      <td>Industriehof</td>\n",
       "      <td>NaN</td>\n",
       "      <td>NaN</td>\n",
       "      <td>Frankfurt am Main</td>\n",
       "      <td>Fahrrad</td>\n",
       "      <td>5) 120 bis 180 Minuten</td>\n",
       "      <td>NaN</td>\n",
       "      <td>NaN</td>\n",
       "    </tr>\n",
       "    <tr>\n",
       "      <td>2</td>\n",
       "      <td>16</td>\n",
       "      <td>22624449</td>\n",
       "      <td>50000</td>\n",
       "      <td>116493</td>\n",
       "      <td>cab_fahrrad</td>\n",
       "      <td>384528</td>\n",
       "      <td>autopos</td>\n",
       "      <td>500</td>\n",
       "      <td>0</td>\n",
       "      <td>DF380E61BFD8496818D355402053EB10476304CF</td>\n",
       "      <td>...</td>\n",
       "      <td>NaN</td>\n",
       "      <td>NaN</td>\n",
       "      <td>NaN</td>\n",
       "      <td>Nibelungenplatz / Nibelungen Allee</td>\n",
       "      <td>Nibelungenplatz / Nibelungen Allee</td>\n",
       "      <td>Frankfurt am Main</td>\n",
       "      <td>Fahrrad</td>\n",
       "      <td>5) 120 bis 180 Minuten</td>\n",
       "      <td>NaN</td>\n",
       "      <td>NaN</td>\n",
       "    </tr>\n",
       "    <tr>\n",
       "      <td>3</td>\n",
       "      <td>28</td>\n",
       "      <td>23161904</td>\n",
       "      <td>50000</td>\n",
       "      <td>117262</td>\n",
       "      <td>cab_fahrrad</td>\n",
       "      <td>397394</td>\n",
       "      <td>autopos</td>\n",
       "      <td>500</td>\n",
       "      <td>0</td>\n",
       "      <td>30848C833E874239FF088C39A527558B3DBDE2E8</td>\n",
       "      <td>...</td>\n",
       "      <td>NaN</td>\n",
       "      <td>Europaallee / Den Haager Straße</td>\n",
       "      <td>Europaallee / Den Haager Straße</td>\n",
       "      <td>NaN</td>\n",
       "      <td>NaN</td>\n",
       "      <td>Frankfurt am Main</td>\n",
       "      <td>Fahrrad</td>\n",
       "      <td>1) 0 bis 15 Minuten</td>\n",
       "      <td>t</td>\n",
       "      <td>IVR</td>\n",
       "    </tr>\n",
       "    <tr>\n",
       "      <td>4</td>\n",
       "      <td>34</td>\n",
       "      <td>23161562</td>\n",
       "      <td>50000</td>\n",
       "      <td>116188</td>\n",
       "      <td>cab_fahrrad</td>\n",
       "      <td>393546</td>\n",
       "      <td>autopos</td>\n",
       "      <td>500</td>\n",
       "      <td>0</td>\n",
       "      <td>B9951AE1E818A5215F08307C179FF16CF984757B</td>\n",
       "      <td>...</td>\n",
       "      <td>NaN</td>\n",
       "      <td>Frankenallee / Schwalbacherstraße</td>\n",
       "      <td>Frankenallee / Schwalbacherstraße</td>\n",
       "      <td>Voltastraße / An der Dammheide</td>\n",
       "      <td>Voltastraße / An der Dammheide</td>\n",
       "      <td>Frankfurt am Main</td>\n",
       "      <td>Fahrrad</td>\n",
       "      <td>1) 0 bis 15 Minuten</td>\n",
       "      <td>Schnittstelle</td>\n",
       "      <td>iPhone CAB</td>\n",
       "    </tr>\n",
       "  </tbody>\n",
       "</table>\n",
       "<p>5 rows × 48 columns</p>\n",
       "</div>"
      ],
      "text/plain": [
       "   Unnamed: 0  BOOKING_HAL_ID  EFFECTIVE_CATEGORY_HAL_ID  VEHICLE_HAL_ID  \\\n",
       "0           0        23161966                      50000          116335   \n",
       "1           3        23162025                      50000          116424   \n",
       "2          16        22624449                      50000          116493   \n",
       "3          28        23161904                      50000          117262   \n",
       "4          34        23161562                      50000          116188   \n",
       "\n",
       "  VEHICLE_HAL_SRC  RENTAL_OBJECT_HAL_ID RENTAL_OBJECT_HAL_SRC  \\\n",
       "0     cab_fahrrad                363130               autopos   \n",
       "1     cab_fahrrad                381903               autopos   \n",
       "2     cab_fahrrad                384528               autopos   \n",
       "3     cab_fahrrad                397394               autopos   \n",
       "4     cab_fahrrad                393546               autopos   \n",
       "\n",
       "   VEHICLE_COMPANY_HAL_ID  DUTY_TRIP_X  \\\n",
       "0                     500            1   \n",
       "1                     500            1   \n",
       "2                     500            0   \n",
       "3                     500            0   \n",
       "4                     500            0   \n",
       "\n",
       "                            CUSTOMER_HAL_ID  ... FRAME_BOOKING_HAL_ID  \\\n",
       "0  AABCDA9CD1FDDD1A819B2C68F6F05C678EC9E918  ...                  NaN   \n",
       "1  AABCDA9CD1FDDD1A819B2C68F6F05C678EC9E918  ...                  NaN   \n",
       "2  DF380E61BFD8496818D355402053EB10476304CF  ...                  NaN   \n",
       "3  30848C833E874239FF088C39A527558B3DBDE2E8  ...                  NaN   \n",
       "4  B9951AE1E818A5215F08307C179FF16CF984757B  ...                  NaN   \n",
       "\n",
       "                     START_RENTAL_ZONE              START_RENTAL_ZONE_GROUP  \\\n",
       "0  Pfarrer-Perabo-Platz / Kleyerstraße  Pfarrer-Perabo-Platz / Kleyerstraße   \n",
       "1                         Industriehof                         Industriehof   \n",
       "2                                  NaN                                  NaN   \n",
       "3      Europaallee / Den Haager Straße      Europaallee / Den Haager Straße   \n",
       "4    Frankenallee / Schwalbacherstraße    Frankenallee / Schwalbacherstraße   \n",
       "\n",
       "                      END_RENTAL_ZONE               END_RENTAL_ZONE_GROUP  \\\n",
       "0                                 NaN                                 NaN   \n",
       "1                                 NaN                                 NaN   \n",
       "2  Nibelungenplatz / Nibelungen Allee  Nibelungenplatz / Nibelungen Allee   \n",
       "3                                 NaN                                 NaN   \n",
       "4      Voltastraße / An der Dammheide      Voltastraße / An der Dammheide   \n",
       "\n",
       "    CITY_RENTAL_ZONE  ACTUAL_VEHICLE_CATEGORY  BOOKING_LENGTH_CLASSIFICATION  \\\n",
       "0  Frankfurt am Main                  Fahrrad          4) 60 bis 120 Minuten   \n",
       "1  Frankfurt am Main                  Fahrrad         5) 120 bis 180 Minuten   \n",
       "2  Frankfurt am Main                  Fahrrad         5) 120 bis 180 Minuten   \n",
       "3  Frankfurt am Main                  Fahrrad            1) 0 bis 15 Minuten   \n",
       "4  Frankfurt am Main                  Fahrrad            1) 0 bis 15 Minuten   \n",
       "\n",
       "   TECHNICAL_USER_NAME  TECHNICAL_USER_NAME_LONG  \n",
       "0                  NaN                       NaN  \n",
       "1                  NaN                       NaN  \n",
       "2                  NaN                       NaN  \n",
       "3                    t                       IVR  \n",
       "4        Schnittstelle                iPhone CAB  \n",
       "\n",
       "[5 rows x 48 columns]"
      ]
     },
     "execution_count": 3,
     "metadata": {},
     "output_type": "execute_result"
    }
   ],
   "source": [
    "all_data.head()"
   ]
  },
  {
   "cell_type": "code",
   "execution_count": 4,
   "metadata": {},
   "outputs": [],
   "source": [
    "twocols = all_data[['BOOKING_HAL_ID', 'DATE_BOOKING']]"
   ]
  },
  {
   "cell_type": "code",
   "execution_count": 5,
   "metadata": {},
   "outputs": [
    {
     "data": {
      "text/html": [
       "<div>\n",
       "<style scoped>\n",
       "    .dataframe tbody tr th:only-of-type {\n",
       "        vertical-align: middle;\n",
       "    }\n",
       "\n",
       "    .dataframe tbody tr th {\n",
       "        vertical-align: top;\n",
       "    }\n",
       "\n",
       "    .dataframe thead th {\n",
       "        text-align: right;\n",
       "    }\n",
       "</style>\n",
       "<table border=\"1\" class=\"dataframe\">\n",
       "  <thead>\n",
       "    <tr style=\"text-align: right;\">\n",
       "      <th></th>\n",
       "      <th>BOOKING_HAL_ID</th>\n",
       "      <th>DATE_BOOKING</th>\n",
       "    </tr>\n",
       "  </thead>\n",
       "  <tbody>\n",
       "    <tr>\n",
       "      <td>0</td>\n",
       "      <td>23161966</td>\n",
       "      <td>2014-05-13 09:04:25.0000000</td>\n",
       "    </tr>\n",
       "    <tr>\n",
       "      <td>1</td>\n",
       "      <td>23162025</td>\n",
       "      <td>2014-05-13 09:06:26.0000000</td>\n",
       "    </tr>\n",
       "    <tr>\n",
       "      <td>2</td>\n",
       "      <td>22624449</td>\n",
       "      <td>2014-04-13 14:51:52.0000000</td>\n",
       "    </tr>\n",
       "    <tr>\n",
       "      <td>3</td>\n",
       "      <td>23161904</td>\n",
       "      <td>2014-05-13 09:01:53.0000000</td>\n",
       "    </tr>\n",
       "    <tr>\n",
       "      <td>4</td>\n",
       "      <td>23161562</td>\n",
       "      <td>2014-05-13 08:49:22.0000000</td>\n",
       "    </tr>\n",
       "  </tbody>\n",
       "</table>\n",
       "</div>"
      ],
      "text/plain": [
       "   BOOKING_HAL_ID                 DATE_BOOKING\n",
       "0        23161966  2014-05-13 09:04:25.0000000\n",
       "1        23162025  2014-05-13 09:06:26.0000000\n",
       "2        22624449  2014-04-13 14:51:52.0000000\n",
       "3        23161904  2014-05-13 09:01:53.0000000\n",
       "4        23161562  2014-05-13 08:49:22.0000000"
      ]
     },
     "execution_count": 5,
     "metadata": {},
     "output_type": "execute_result"
    }
   ],
   "source": [
    "twocols.head()"
   ]
  },
  {
   "cell_type": "code",
   "execution_count": 6,
   "metadata": {},
   "outputs": [],
   "source": [
    "newcols = pd.DataFrame(twocols[\"DATE_BOOKING\"].str.split(\" \", 1).tolist(), columns = ['date','time'])"
   ]
  },
  {
   "cell_type": "code",
   "execution_count": 7,
   "metadata": {
    "scrolled": true
   },
   "outputs": [
    {
     "data": {
      "text/html": [
       "<div>\n",
       "<style scoped>\n",
       "    .dataframe tbody tr th:only-of-type {\n",
       "        vertical-align: middle;\n",
       "    }\n",
       "\n",
       "    .dataframe tbody tr th {\n",
       "        vertical-align: top;\n",
       "    }\n",
       "\n",
       "    .dataframe thead th {\n",
       "        text-align: right;\n",
       "    }\n",
       "</style>\n",
       "<table border=\"1\" class=\"dataframe\">\n",
       "  <thead>\n",
       "    <tr style=\"text-align: right;\">\n",
       "      <th></th>\n",
       "      <th>date</th>\n",
       "      <th>time</th>\n",
       "    </tr>\n",
       "  </thead>\n",
       "  <tbody>\n",
       "    <tr>\n",
       "      <td>0</td>\n",
       "      <td>2014-05-13</td>\n",
       "      <td>09:04:25.0000000</td>\n",
       "    </tr>\n",
       "    <tr>\n",
       "      <td>1</td>\n",
       "      <td>2014-05-13</td>\n",
       "      <td>09:06:26.0000000</td>\n",
       "    </tr>\n",
       "    <tr>\n",
       "      <td>2</td>\n",
       "      <td>2014-04-13</td>\n",
       "      <td>14:51:52.0000000</td>\n",
       "    </tr>\n",
       "    <tr>\n",
       "      <td>3</td>\n",
       "      <td>2014-05-13</td>\n",
       "      <td>09:01:53.0000000</td>\n",
       "    </tr>\n",
       "    <tr>\n",
       "      <td>4</td>\n",
       "      <td>2014-05-13</td>\n",
       "      <td>08:49:22.0000000</td>\n",
       "    </tr>\n",
       "  </tbody>\n",
       "</table>\n",
       "</div>"
      ],
      "text/plain": [
       "         date              time\n",
       "0  2014-05-13  09:04:25.0000000\n",
       "1  2014-05-13  09:06:26.0000000\n",
       "2  2014-04-13  14:51:52.0000000\n",
       "3  2014-05-13  09:01:53.0000000\n",
       "4  2014-05-13  08:49:22.0000000"
      ]
     },
     "execution_count": 7,
     "metadata": {},
     "output_type": "execute_result"
    }
   ],
   "source": [
    "newcols.head()"
   ]
  },
  {
   "cell_type": "code",
   "execution_count": 8,
   "metadata": {},
   "outputs": [],
   "source": [
    "splitted_date = pd.DataFrame(newcols[\"date\"].str.split(\"-\", 2).tolist(), columns = ['year', 'month', 'day'])\n",
    "## cut the date in certain features"
   ]
  },
  {
   "cell_type": "code",
   "execution_count": 9,
   "metadata": {},
   "outputs": [
    {
     "data": {
      "text/html": [
       "<div>\n",
       "<style scoped>\n",
       "    .dataframe tbody tr th:only-of-type {\n",
       "        vertical-align: middle;\n",
       "    }\n",
       "\n",
       "    .dataframe tbody tr th {\n",
       "        vertical-align: top;\n",
       "    }\n",
       "\n",
       "    .dataframe thead th {\n",
       "        text-align: right;\n",
       "    }\n",
       "</style>\n",
       "<table border=\"1\" class=\"dataframe\">\n",
       "  <thead>\n",
       "    <tr style=\"text-align: right;\">\n",
       "      <th></th>\n",
       "      <th>year</th>\n",
       "      <th>month</th>\n",
       "      <th>day</th>\n",
       "    </tr>\n",
       "  </thead>\n",
       "  <tbody>\n",
       "    <tr>\n",
       "      <td>0</td>\n",
       "      <td>2014</td>\n",
       "      <td>05</td>\n",
       "      <td>13</td>\n",
       "    </tr>\n",
       "    <tr>\n",
       "      <td>1</td>\n",
       "      <td>2014</td>\n",
       "      <td>05</td>\n",
       "      <td>13</td>\n",
       "    </tr>\n",
       "    <tr>\n",
       "      <td>2</td>\n",
       "      <td>2014</td>\n",
       "      <td>04</td>\n",
       "      <td>13</td>\n",
       "    </tr>\n",
       "    <tr>\n",
       "      <td>3</td>\n",
       "      <td>2014</td>\n",
       "      <td>05</td>\n",
       "      <td>13</td>\n",
       "    </tr>\n",
       "    <tr>\n",
       "      <td>4</td>\n",
       "      <td>2014</td>\n",
       "      <td>05</td>\n",
       "      <td>13</td>\n",
       "    </tr>\n",
       "  </tbody>\n",
       "</table>\n",
       "</div>"
      ],
      "text/plain": [
       "   year month day\n",
       "0  2014    05  13\n",
       "1  2014    05  13\n",
       "2  2014    04  13\n",
       "3  2014    05  13\n",
       "4  2014    05  13"
      ]
     },
     "execution_count": 9,
     "metadata": {},
     "output_type": "execute_result"
    }
   ],
   "source": [
    "splitted_date.head()"
   ]
  },
  {
   "cell_type": "code",
   "execution_count": 14,
   "metadata": {
    "scrolled": true
   },
   "outputs": [
    {
     "data": {
      "text/plain": [
       "Text(0.5, 1.0, 'Booking_Activity_per_Month')"
      ]
     },
     "execution_count": 14,
     "metadata": {},
     "output_type": "execute_result"
    },
    {
     "data": {
      "image/png": "[encoded data removed]",
      "text/plain": [
       "<Figure size 432x288 with 1 Axes>"
      ]
     },
     "metadata": {
      "needs_background": "light"
     },
     "output_type": "display_data"
    }
   ],
   "source": [
    "splitted_date.groupby(['year', 'month']).agg({'month': ['count']}).plot()\n",
    "plt.title('Booking_Number_per_Month')\n",
    "##shows number of bookings per month"
   ]
  },
  {
   "cell_type": "code",
   "execution_count": 15,
   "metadata": {},
   "outputs": [
    {
     "data": {
      "text/plain": [
       "Text(0.5, 1.0, 'Booking_Number_per_Year')"
      ]
     },
     "execution_count": 15,
     "metadata": {},
     "output_type": "execute_result"
    },
    {
     "data": {
      "image/png": "[encoded data removed]",
      "text/plain": [
       "<Figure size 432x288 with 1 Axes>"
      ]
     },
     "metadata": {
      "needs_background": "light"
     },
     "output_type": "display_data"
    }
   ],
   "source": [
    "splitted_date.groupby(['year']).agg({'year': ['count']}).plot(kind='bar')\n",
    "plt.title('Booking_Number_per_Year')\n",
    "##shows number of bookings per year"
   ]
  },
  {
   "cell_type": "code",
   "execution_count": 17,
   "metadata": {},
   "outputs": [],
   "source": [
    "Booking_Length = all_data[['BOOKING_HAL_ID', 'DATE_BOOKING', 'DATE_FROM', 'DATE_UNTIL', 'BOOKING_LENGTH_CLASSIFICATION']]"
   ]
  },
  {
   "cell_type": "code",
   "execution_count": 18,
   "metadata": {},
   "outputs": [
    {
     "data": {
      "text/html": [
       "<div>\n",
       "<style scoped>\n",
       "    .dataframe tbody tr th:only-of-type {\n",
       "        vertical-align: middle;\n",
       "    }\n",
       "\n",
       "    .dataframe tbody tr th {\n",
       "        vertical-align: top;\n",
       "    }\n",
       "\n",
       "    .dataframe thead th {\n",
       "        text-align: right;\n",
       "    }\n",
       "</style>\n",
       "<table border=\"1\" class=\"dataframe\">\n",
       "  <thead>\n",
       "    <tr style=\"text-align: right;\">\n",
       "      <th></th>\n",
       "      <th>BOOKING_HAL_ID</th>\n",
       "      <th>DATE_BOOKING</th>\n",
       "      <th>DATE_FROM</th>\n",
       "      <th>DATE_UNTIL</th>\n",
       "      <th>BOOKING_LENGTH_CLASSIFICATION</th>\n",
       "    </tr>\n",
       "  </thead>\n",
       "  <tbody>\n",
       "    <tr>\n",
       "      <td>0</td>\n",
       "      <td>23161966</td>\n",
       "      <td>2014-05-13 09:04:25.0000000</td>\n",
       "      <td>2014-05-13 09:04:25.0000000</td>\n",
       "      <td>2014-05-13 10:34:52.0000000</td>\n",
       "      <td>4) 60 bis 120 Minuten</td>\n",
       "    </tr>\n",
       "    <tr>\n",
       "      <td>1</td>\n",
       "      <td>23162025</td>\n",
       "      <td>2014-05-13 09:06:26.0000000</td>\n",
       "      <td>2014-05-13 09:06:26.0000000</td>\n",
       "      <td>2014-05-13 11:58:02.0000000</td>\n",
       "      <td>5) 120 bis 180 Minuten</td>\n",
       "    </tr>\n",
       "    <tr>\n",
       "      <td>2</td>\n",
       "      <td>22624449</td>\n",
       "      <td>2014-04-13 14:51:52.0000000</td>\n",
       "      <td>2014-04-13 14:51:52.0000000</td>\n",
       "      <td>2014-04-13 17:38:50.0000000</td>\n",
       "      <td>5) 120 bis 180 Minuten</td>\n",
       "    </tr>\n",
       "    <tr>\n",
       "      <td>3</td>\n",
       "      <td>23161904</td>\n",
       "      <td>2014-05-13 09:01:53.0000000</td>\n",
       "      <td>2014-05-13 09:01:53.0000000</td>\n",
       "      <td>2014-05-13 09:02:28.0000000</td>\n",
       "      <td>1) 0 bis 15 Minuten</td>\n",
       "    </tr>\n",
       "    <tr>\n",
       "      <td>4</td>\n",
       "      <td>23161562</td>\n",
       "      <td>2014-05-13 08:49:22.0000000</td>\n",
       "      <td>2014-05-13 08:49:22.0000000</td>\n",
       "      <td>2014-05-13 08:58:00.0000000</td>\n",
       "      <td>1) 0 bis 15 Minuten</td>\n",
       "    </tr>\n",
       "  </tbody>\n",
       "</table>\n",
       "</div>"
      ],
      "text/plain": [
       "   BOOKING_HAL_ID                 DATE_BOOKING                    DATE_FROM  \\\n",
       "0        23161966  2014-05-13 09:04:25.0000000  2014-05-13 09:04:25.0000000   \n",
       "1        23162025  2014-05-13 09:06:26.0000000  2014-05-13 09:06:26.0000000   \n",
       "2        22624449  2014-04-13 14:51:52.0000000  2014-04-13 14:51:52.0000000   \n",
       "3        23161904  2014-05-13 09:01:53.0000000  2014-05-13 09:01:53.0000000   \n",
       "4        23161562  2014-05-13 08:49:22.0000000  2014-05-13 08:49:22.0000000   \n",
       "\n",
       "                    DATE_UNTIL BOOKING_LENGTH_CLASSIFICATION  \n",
       "0  2014-05-13 10:34:52.0000000         4) 60 bis 120 Minuten  \n",
       "1  2014-05-13 11:58:02.0000000        5) 120 bis 180 Minuten  \n",
       "2  2014-04-13 17:38:50.0000000        5) 120 bis 180 Minuten  \n",
       "3  2014-05-13 09:02:28.0000000           1) 0 bis 15 Minuten  \n",
       "4  2014-05-13 08:58:00.0000000           1) 0 bis 15 Minuten  "
      ]
     },
     "execution_count": 18,
     "metadata": {},
     "output_type": "execute_result"
    }
   ],
   "source": [
    "Booking_Length.head()\n",
    "#another dataset from all with selected features"
   ]
  },
  {
   "cell_type": "code",
   "execution_count": 19,
   "metadata": {},
   "outputs": [
    {
     "data": {
      "text/html": [
       "<div>\n",
       "<style scoped>\n",
       "    .dataframe tbody tr th:only-of-type {\n",
       "        vertical-align: middle;\n",
       "    }\n",
       "\n",
       "    .dataframe tbody tr th {\n",
       "        vertical-align: top;\n",
       "    }\n",
       "\n",
       "    .dataframe thead th {\n",
       "        text-align: right;\n",
       "    }\n",
       "</style>\n",
       "<table border=\"1\" class=\"dataframe\">\n",
       "  <thead>\n",
       "    <tr style=\"text-align: right;\">\n",
       "      <th></th>\n",
       "      <th>BOOKING_HAL_ID</th>\n",
       "      <th>DATE_BOOKING</th>\n",
       "      <th>DATE_FROM</th>\n",
       "      <th>DATE_UNTIL</th>\n",
       "      <th>BOOKING_LENGTH_CLASSIFICATION</th>\n",
       "    </tr>\n",
       "  </thead>\n",
       "  <tbody>\n",
       "    <tr>\n",
       "      <td>0</td>\n",
       "      <td>23161966</td>\n",
       "      <td>2014-05-13</td>\n",
       "      <td>2014-05-13 09:04:25.0000000</td>\n",
       "      <td>2014-05-13 10:34:52.0000000</td>\n",
       "      <td>4) 60 bis 120 Minuten</td>\n",
       "    </tr>\n",
       "    <tr>\n",
       "      <td>1</td>\n",
       "      <td>23162025</td>\n",
       "      <td>2014-05-13</td>\n",
       "      <td>2014-05-13 09:06:26.0000000</td>\n",
       "      <td>2014-05-13 11:58:02.0000000</td>\n",
       "      <td>5) 120 bis 180 Minuten</td>\n",
       "    </tr>\n",
       "    <tr>\n",
       "      <td>2</td>\n",
       "      <td>22624449</td>\n",
       "      <td>2014-04-13</td>\n",
       "      <td>2014-04-13 14:51:52.0000000</td>\n",
       "      <td>2014-04-13 17:38:50.0000000</td>\n",
       "      <td>5) 120 bis 180 Minuten</td>\n",
       "    </tr>\n",
       "    <tr>\n",
       "      <td>3</td>\n",
       "      <td>23161904</td>\n",
       "      <td>2014-05-13</td>\n",
       "      <td>2014-05-13 09:01:53.0000000</td>\n",
       "      <td>2014-05-13 09:02:28.0000000</td>\n",
       "      <td>1) 0 bis 15 Minuten</td>\n",
       "    </tr>\n",
       "    <tr>\n",
       "      <td>4</td>\n",
       "      <td>23161562</td>\n",
       "      <td>2014-05-13</td>\n",
       "      <td>2014-05-13 08:49:22.0000000</td>\n",
       "      <td>2014-05-13 08:58:00.0000000</td>\n",
       "      <td>1) 0 bis 15 Minuten</td>\n",
       "    </tr>\n",
       "  </tbody>\n",
       "</table>\n",
       "</div>"
      ],
      "text/plain": [
       "   BOOKING_HAL_ID DATE_BOOKING                    DATE_FROM  \\\n",
       "0        23161966   2014-05-13  2014-05-13 09:04:25.0000000   \n",
       "1        23162025   2014-05-13  2014-05-13 09:06:26.0000000   \n",
       "2        22624449   2014-04-13  2014-04-13 14:51:52.0000000   \n",
       "3        23161904   2014-05-13  2014-05-13 09:01:53.0000000   \n",
       "4        23161562   2014-05-13  2014-05-13 08:49:22.0000000   \n",
       "\n",
       "                    DATE_UNTIL BOOKING_LENGTH_CLASSIFICATION  \n",
       "0  2014-05-13 10:34:52.0000000         4) 60 bis 120 Minuten  \n",
       "1  2014-05-13 11:58:02.0000000        5) 120 bis 180 Minuten  \n",
       "2  2014-04-13 17:38:50.0000000        5) 120 bis 180 Minuten  \n",
       "3  2014-05-13 09:02:28.0000000           1) 0 bis 15 Minuten  \n",
       "4  2014-05-13 08:58:00.0000000           1) 0 bis 15 Minuten  "
      ]
     },
     "execution_count": 19,
     "metadata": {},
     "output_type": "execute_result"
    }
   ],
   "source": [
    "Booking_Length['DATE_BOOKING'] = pd.DataFrame(Booking_Length[\"DATE_BOOKING\"].str.split(\" \", 1).tolist(), columns = ['date', 'time'])\n",
    "Booking_Length.head()\n",
    "#cut Booking time from Date_Booking by splitting the attribute\n"
   ]
  },
  {
   "cell_type": "code",
   "execution_count": 21,
   "metadata": {},
   "outputs": [
    {
     "data": {
      "text/html": [
       "<div>\n",
       "<style scoped>\n",
       "    .dataframe tbody tr th:only-of-type {\n",
       "        vertical-align: middle;\n",
       "    }\n",
       "\n",
       "    .dataframe tbody tr th {\n",
       "        vertical-align: top;\n",
       "    }\n",
       "\n",
       "    .dataframe thead th {\n",
       "        text-align: right;\n",
       "    }\n",
       "</style>\n",
       "<table border=\"1\" class=\"dataframe\">\n",
       "  <thead>\n",
       "    <tr style=\"text-align: right;\">\n",
       "      <th></th>\n",
       "      <th>BOOKING_HAL_ID</th>\n",
       "      <th>DATE_BOOKING</th>\n",
       "      <th>DATE_FROM</th>\n",
       "      <th>DATE_UNTIL</th>\n",
       "      <th>BOOKING_LENGTH_CLASSIFICATION</th>\n",
       "      <th>BOOKING_TIME</th>\n",
       "    </tr>\n",
       "  </thead>\n",
       "  <tbody>\n",
       "    <tr>\n",
       "      <td>0</td>\n",
       "      <td>23161966</td>\n",
       "      <td>2014-05-13</td>\n",
       "      <td>2014-05-13 09:04:25</td>\n",
       "      <td>2014-05-13 10:34:52</td>\n",
       "      <td>4) 60 bis 120 Minuten</td>\n",
       "      <td>01:30:27</td>\n",
       "    </tr>\n",
       "    <tr>\n",
       "      <td>1</td>\n",
       "      <td>23162025</td>\n",
       "      <td>2014-05-13</td>\n",
       "      <td>2014-05-13 09:06:26</td>\n",
       "      <td>2014-05-13 11:58:02</td>\n",
       "      <td>5) 120 bis 180 Minuten</td>\n",
       "      <td>02:51:36</td>\n",
       "    </tr>\n",
       "    <tr>\n",
       "      <td>2</td>\n",
       "      <td>22624449</td>\n",
       "      <td>2014-04-13</td>\n",
       "      <td>2014-04-13 14:51:52</td>\n",
       "      <td>2014-04-13 17:38:50</td>\n",
       "      <td>5) 120 bis 180 Minuten</td>\n",
       "      <td>02:46:58</td>\n",
       "    </tr>\n",
       "    <tr>\n",
       "      <td>3</td>\n",
       "      <td>23161904</td>\n",
       "      <td>2014-05-13</td>\n",
       "      <td>2014-05-13 09:01:53</td>\n",
       "      <td>2014-05-13 09:02:28</td>\n",
       "      <td>1) 0 bis 15 Minuten</td>\n",
       "      <td>00:00:35</td>\n",
       "    </tr>\n",
       "    <tr>\n",
       "      <td>4</td>\n",
       "      <td>23161562</td>\n",
       "      <td>2014-05-13</td>\n",
       "      <td>2014-05-13 08:49:22</td>\n",
       "      <td>2014-05-13 08:58:00</td>\n",
       "      <td>1) 0 bis 15 Minuten</td>\n",
       "      <td>00:08:38</td>\n",
       "    </tr>\n",
       "  </tbody>\n",
       "</table>\n",
       "</div>"
      ],
      "text/plain": [
       "   BOOKING_HAL_ID DATE_BOOKING           DATE_FROM          DATE_UNTIL  \\\n",
       "0        23161966   2014-05-13 2014-05-13 09:04:25 2014-05-13 10:34:52   \n",
       "1        23162025   2014-05-13 2014-05-13 09:06:26 2014-05-13 11:58:02   \n",
       "2        22624449   2014-04-13 2014-04-13 14:51:52 2014-04-13 17:38:50   \n",
       "3        23161904   2014-05-13 2014-05-13 09:01:53 2014-05-13 09:02:28   \n",
       "4        23161562   2014-05-13 2014-05-13 08:49:22 2014-05-13 08:58:00   \n",
       "\n",
       "  BOOKING_LENGTH_CLASSIFICATION BOOKING_TIME  \n",
       "0         4) 60 bis 120 Minuten     01:30:27  \n",
       "1        5) 120 bis 180 Minuten     02:51:36  \n",
       "2        5) 120 bis 180 Minuten     02:46:58  \n",
       "3           1) 0 bis 15 Minuten     00:00:35  \n",
       "4           1) 0 bis 15 Minuten     00:08:38  "
      ]
     },
     "execution_count": 21,
     "metadata": {},
     "output_type": "execute_result"
    }
   ],
   "source": [
    "Booking_Length['DATE_FROM'] = pd.to_datetime(Booking_Length['DATE_FROM']) \n",
    "Booking_Length['DATE_UNTIL'] = pd.to_datetime(Booking_Length['DATE_UNTIL'])\n",
    "Booking_Length['BOOKING_TIME'] = Booking_Length['DATE_UNTIL'] - Booking_Length['DATE_FROM']\n",
    "Booking_Length.head()\n",
    "#create new column and add it to dataset with the absolute Bookingtime"
   ]
  },
  {
   "cell_type": "code",
   "execution_count": 22,
   "metadata": {},
   "outputs": [],
   "source": [
    "date_split = pd.DataFrame(Booking_Length[\"DATE_BOOKING\"].str.split(\"-\",2).tolist(), columns = ['year','month', 'day'])\n",
    "Booking_Length['BOOKING_YEAR'] = date_split['year']\n",
    "Booking_Length['BOOKING_MONTH'] = date_split['month']\n",
    "#create new columns by splitting datebooking and caching in date_split"
   ]
  },
  {
   "cell_type": "code",
   "execution_count": 23,
   "metadata": {},
   "outputs": [
    {
     "data": {
      "text/html": [
       "<div>\n",
       "<style scoped>\n",
       "    .dataframe tbody tr th:only-of-type {\n",
       "        vertical-align: middle;\n",
       "    }\n",
       "\n",
       "    .dataframe tbody tr th {\n",
       "        vertical-align: top;\n",
       "    }\n",
       "\n",
       "    .dataframe thead th {\n",
       "        text-align: right;\n",
       "    }\n",
       "</style>\n",
       "<table border=\"1\" class=\"dataframe\">\n",
       "  <thead>\n",
       "    <tr style=\"text-align: right;\">\n",
       "      <th></th>\n",
       "      <th>BOOKING_HAL_ID</th>\n",
       "      <th>DATE_BOOKING</th>\n",
       "      <th>DATE_FROM</th>\n",
       "      <th>DATE_UNTIL</th>\n",
       "      <th>BOOKING_LENGTH_CLASSIFICATION</th>\n",
       "      <th>BOOKING_TIME</th>\n",
       "      <th>BOOKING_YEAR</th>\n",
       "      <th>BOOKING_MONTH</th>\n",
       "    </tr>\n",
       "  </thead>\n",
       "  <tbody>\n",
       "    <tr>\n",
       "      <td>0</td>\n",
       "      <td>23161966</td>\n",
       "      <td>2014-05-13</td>\n",
       "      <td>2014-05-13 09:04:25</td>\n",
       "      <td>2014-05-13 10:34:52</td>\n",
       "      <td>4) 60 bis 120 Minuten</td>\n",
       "      <td>01:30:27</td>\n",
       "      <td>2014</td>\n",
       "      <td>05</td>\n",
       "    </tr>\n",
       "    <tr>\n",
       "      <td>1</td>\n",
       "      <td>23162025</td>\n",
       "      <td>2014-05-13</td>\n",
       "      <td>2014-05-13 09:06:26</td>\n",
       "      <td>2014-05-13 11:58:02</td>\n",
       "      <td>5) 120 bis 180 Minuten</td>\n",
       "      <td>02:51:36</td>\n",
       "      <td>2014</td>\n",
       "      <td>05</td>\n",
       "    </tr>\n",
       "    <tr>\n",
       "      <td>2</td>\n",
       "      <td>22624449</td>\n",
       "      <td>2014-04-13</td>\n",
       "      <td>2014-04-13 14:51:52</td>\n",
       "      <td>2014-04-13 17:38:50</td>\n",
       "      <td>5) 120 bis 180 Minuten</td>\n",
       "      <td>02:46:58</td>\n",
       "      <td>2014</td>\n",
       "      <td>04</td>\n",
       "    </tr>\n",
       "    <tr>\n",
       "      <td>3</td>\n",
       "      <td>23161904</td>\n",
       "      <td>2014-05-13</td>\n",
       "      <td>2014-05-13 09:01:53</td>\n",
       "      <td>2014-05-13 09:02:28</td>\n",
       "      <td>1) 0 bis 15 Minuten</td>\n",
       "      <td>00:00:35</td>\n",
       "      <td>2014</td>\n",
       "      <td>05</td>\n",
       "    </tr>\n",
       "    <tr>\n",
       "      <td>4</td>\n",
       "      <td>23161562</td>\n",
       "      <td>2014-05-13</td>\n",
       "      <td>2014-05-13 08:49:22</td>\n",
       "      <td>2014-05-13 08:58:00</td>\n",
       "      <td>1) 0 bis 15 Minuten</td>\n",
       "      <td>00:08:38</td>\n",
       "      <td>2014</td>\n",
       "      <td>05</td>\n",
       "    </tr>\n",
       "  </tbody>\n",
       "</table>\n",
       "</div>"
      ],
      "text/plain": [
       "   BOOKING_HAL_ID DATE_BOOKING           DATE_FROM          DATE_UNTIL  \\\n",
       "0        23161966   2014-05-13 2014-05-13 09:04:25 2014-05-13 10:34:52   \n",
       "1        23162025   2014-05-13 2014-05-13 09:06:26 2014-05-13 11:58:02   \n",
       "2        22624449   2014-04-13 2014-04-13 14:51:52 2014-04-13 17:38:50   \n",
       "3        23161904   2014-05-13 2014-05-13 09:01:53 2014-05-13 09:02:28   \n",
       "4        23161562   2014-05-13 2014-05-13 08:49:22 2014-05-13 08:58:00   \n",
       "\n",
       "  BOOKING_LENGTH_CLASSIFICATION BOOKING_TIME BOOKING_YEAR BOOKING_MONTH  \n",
       "0         4) 60 bis 120 Minuten     01:30:27         2014            05  \n",
       "1        5) 120 bis 180 Minuten     02:51:36         2014            05  \n",
       "2        5) 120 bis 180 Minuten     02:46:58         2014            04  \n",
       "3           1) 0 bis 15 Minuten     00:00:35         2014            05  \n",
       "4           1) 0 bis 15 Minuten     00:08:38         2014            05  "
      ]
     },
     "execution_count": 23,
     "metadata": {},
     "output_type": "execute_result"
    }
   ],
   "source": [
    "Booking_Length.head()"
   ]
  },
  {
   "cell_type": "code",
   "execution_count": 24,
   "metadata": {},
   "outputs": [
    {
     "data": {
      "text/plain": [
       "Text(0.5, 1.0, 'Summarized Booking_Time_per_month')"
      ]
     },
     "execution_count": 24,
     "metadata": {},
     "output_type": "execute_result"
    },
    {
     "data": {
      "image/png": "[encoded data removed]",
      "text/plain": [
       "<Figure size 432x288 with 1 Axes>"
      ]
     },
     "metadata": {
      "needs_background": "light"
     },
     "output_type": "display_data"
    }
   ],
   "source": [
    "Booking_Length.groupby(['BOOKING_YEAR','BOOKING_MONTH']).agg({'BOOKING_TIME': ['sum']}).plot(kind='bar')\n",
    "plt.title('Summarized_Booking_Time_per_month')"
   ]
  },
  {
   "cell_type": "code",
   "execution_count": 25,
   "metadata": {},
   "outputs": [
    {
     "data": {
      "text/plain": [
       "<matplotlib.axes._subplots.AxesSubplot at 0x22412b091c8>"
      ]
     },
     "execution_count": 25,
     "metadata": {},
     "output_type": "execute_result"
    },
    {
     "data": {
      "image/png": "[encoded data removed]",
      "text/plain": [
       "<Figure size 432x288 with 1 Axes>"
      ]
     },
     "metadata": {
      "needs_background": "light"
     },
     "output_type": "display_data"
    }
   ],
   "source": [
    "Booking_Length['BOOKING_TIME'] = Booking_Length['BOOKING_TIME'].values.astype(np.int64)\n",
    "Booking_Length.groupby(['BOOKING_YEAR','BOOKING_MONTH']).agg({'BOOKING_TIME': ['mean']}).plot(kind='bar')\n",
    "plt.title('Average_Booking_Time_per_Month')"
   ]
  },
  {
   "cell_type": "code",
   "execution_count": 26,
   "metadata": {},
   "outputs": [
    {
     "data": {
      "text/plain": [
       "Text(0.5, 1.0, 'Booking_Time_divided_in_Timeseries')"
      ]
     },
     "execution_count": 26,
     "metadata": {},
     "output_type": "execute_result"
    },
    {
     "data": {
      "image/png": "[encoded data removed]",
      "text/plain": [
       "<Figure size 432x288 with 1 Axes>"
      ]
     },
     "metadata": {
      "needs_background": "light"
     },
     "output_type": "display_data"
    }
   ],
   "source": [
    "Booking_Length.groupby(['BOOKING_LENGTH_CLASSIFICATION']).agg({'BOOKING_TIME': ['count']}).plot(kind='bar')\n",
    "plt.title('Booking_Time_divided_in_Timeseries')\n",
    "#Bookingtimes for each BookingEntity is assigned to certain Timeseries "
   ]
  },
  {
   "cell_type": "code",
   "execution_count": 27,
   "metadata": {},
   "outputs": [
    {
     "data": {
      "text/html": [
       "<div>\n",
       "<style scoped>\n",
       "    .dataframe tbody tr th:only-of-type {\n",
       "        vertical-align: middle;\n",
       "    }\n",
       "\n",
       "    .dataframe tbody tr th {\n",
       "        vertical-align: top;\n",
       "    }\n",
       "\n",
       "    .dataframe thead th {\n",
       "        text-align: right;\n",
       "    }\n",
       "</style>\n",
       "<table border=\"1\" class=\"dataframe\">\n",
       "  <thead>\n",
       "    <tr style=\"text-align: right;\">\n",
       "      <th></th>\n",
       "      <th>BOOKING_HAL_ID</th>\n",
       "      <th>DATE_BOOKING</th>\n",
       "      <th>DATE_FROM</th>\n",
       "      <th>DATE_UNTIL</th>\n",
       "      <th>BOOKING_LENGTH_CLASSIFICATION</th>\n",
       "      <th>BOOKING_TIME</th>\n",
       "      <th>BOOKING_YEAR</th>\n",
       "      <th>BOOKING_MONTH</th>\n",
       "    </tr>\n",
       "  </thead>\n",
       "  <tbody>\n",
       "    <tr>\n",
       "      <td>0</td>\n",
       "      <td>23161966</td>\n",
       "      <td>2014</td>\n",
       "      <td>2014-05-13 09:04:25</td>\n",
       "      <td>2014-05-13 10:34:52</td>\n",
       "      <td>4) 60 bis 120 Minuten</td>\n",
       "      <td>5427000000000</td>\n",
       "      <td>2014</td>\n",
       "      <td>05</td>\n",
       "    </tr>\n",
       "    <tr>\n",
       "      <td>1</td>\n",
       "      <td>23162025</td>\n",
       "      <td>2014</td>\n",
       "      <td>2014-05-13 09:06:26</td>\n",
       "      <td>2014-05-13 11:58:02</td>\n",
       "      <td>5) 120 bis 180 Minuten</td>\n",
       "      <td>10296000000000</td>\n",
       "      <td>2014</td>\n",
       "      <td>05</td>\n",
       "    </tr>\n",
       "    <tr>\n",
       "      <td>2</td>\n",
       "      <td>22624449</td>\n",
       "      <td>2014</td>\n",
       "      <td>2014-04-13 14:51:52</td>\n",
       "      <td>2014-04-13 17:38:50</td>\n",
       "      <td>5) 120 bis 180 Minuten</td>\n",
       "      <td>10018000000000</td>\n",
       "      <td>2014</td>\n",
       "      <td>04</td>\n",
       "    </tr>\n",
       "    <tr>\n",
       "      <td>3</td>\n",
       "      <td>23161904</td>\n",
       "      <td>2014</td>\n",
       "      <td>2014-05-13 09:01:53</td>\n",
       "      <td>2014-05-13 09:02:28</td>\n",
       "      <td>1) 0 bis 15 Minuten</td>\n",
       "      <td>35000000000</td>\n",
       "      <td>2014</td>\n",
       "      <td>05</td>\n",
       "    </tr>\n",
       "    <tr>\n",
       "      <td>4</td>\n",
       "      <td>23161562</td>\n",
       "      <td>2014</td>\n",
       "      <td>2014-05-13 08:49:22</td>\n",
       "      <td>2014-05-13 08:58:00</td>\n",
       "      <td>1) 0 bis 15 Minuten</td>\n",
       "      <td>518000000000</td>\n",
       "      <td>2014</td>\n",
       "      <td>05</td>\n",
       "    </tr>\n",
       "  </tbody>\n",
       "</table>\n",
       "</div>"
      ],
      "text/plain": [
       "   BOOKING_HAL_ID DATE_BOOKING           DATE_FROM          DATE_UNTIL  \\\n",
       "0        23161966         2014 2014-05-13 09:04:25 2014-05-13 10:34:52   \n",
       "1        23162025         2014 2014-05-13 09:06:26 2014-05-13 11:58:02   \n",
       "2        22624449         2014 2014-04-13 14:51:52 2014-04-13 17:38:50   \n",
       "3        23161904         2014 2014-05-13 09:01:53 2014-05-13 09:02:28   \n",
       "4        23161562         2014 2014-05-13 08:49:22 2014-05-13 08:58:00   \n",
       "\n",
       "  BOOKING_LENGTH_CLASSIFICATION    BOOKING_TIME BOOKING_YEAR BOOKING_MONTH  \n",
       "0         4) 60 bis 120 Minuten   5427000000000         2014            05  \n",
       "1        5) 120 bis 180 Minuten  10296000000000         2014            05  \n",
       "2        5) 120 bis 180 Minuten  10018000000000         2014            04  \n",
       "3           1) 0 bis 15 Minuten     35000000000         2014            05  \n",
       "4           1) 0 bis 15 Minuten    518000000000         2014            05  "
      ]
     },
     "execution_count": 27,
     "metadata": {},
     "output_type": "execute_result"
    }
   ],
   "source": [
    "Booking_Length['DATE_BOOKING'] = pd.DataFrame(Booking_Length[\"DATE_BOOKING\"].str.split(\"-\", 2).tolist(), columns = ['date', 'time', 'day'])\n",
    "Booking_Length.head()"
   ]
  },
  {
   "cell_type": "code",
   "execution_count": 31,
   "metadata": {},
   "outputs": [
    {
     "data": {
      "text/plain": [
       "Text(0.5, 1.0, 'Absolut_Booking_Time_per_Year')"
      ]
     },
     "execution_count": 31,
     "metadata": {},
     "output_type": "execute_result"
    },
    {
     "data": {
      "image/png": "[encoded data removed]",
      "text/plain": [
       "<Figure size 432x288 with 1 Axes>"
      ]
     },
     "metadata": {
      "needs_background": "light"
     },
     "output_type": "display_data"
    }
   ],
   "source": [
    "Booking_Length.groupby(['DATE_BOOKING']).agg({'BOOKING_TIME': ['count']}).plot(kind='bar')\n",
    "plt.title('Absolut_Booking_Time_per_Year')"
   ]
  },
  {
   "cell_type": "code",
   "execution_count": 32,
   "metadata": {},
   "outputs": [
    {
     "data": {
      "text/html": [
       "<div>\n",
       "<style scoped>\n",
       "    .dataframe tbody tr th:only-of-type {\n",
       "        vertical-align: middle;\n",
       "    }\n",
       "\n",
       "    .dataframe tbody tr th {\n",
       "        vertical-align: top;\n",
       "    }\n",
       "\n",
       "    .dataframe thead th {\n",
       "        text-align: right;\n",
       "    }\n",
       "</style>\n",
       "<table border=\"1\" class=\"dataframe\">\n",
       "  <thead>\n",
       "    <tr style=\"text-align: right;\">\n",
       "      <th></th>\n",
       "      <th>BOOKING_HAL_ID</th>\n",
       "      <th>DATE_BOOKING</th>\n",
       "      <th>DATE_FROM</th>\n",
       "      <th>DATE_UNTIL</th>\n",
       "      <th>BOOKING_LENGTH_CLASSIFICATION</th>\n",
       "      <th>BOOKING_TIME</th>\n",
       "      <th>BOOKING_YEAR</th>\n",
       "      <th>BOOKING_MONTH</th>\n",
       "      <th>BOOKING_Month</th>\n",
       "    </tr>\n",
       "  </thead>\n",
       "  <tbody>\n",
       "    <tr>\n",
       "      <td>0</td>\n",
       "      <td>23161966</td>\n",
       "      <td>2014-01-01</td>\n",
       "      <td>2014-05-13 09:04:25</td>\n",
       "      <td>2014-05-13 10:34:52</td>\n",
       "      <td>4) 60 bis 120 Minuten</td>\n",
       "      <td>5427000000000</td>\n",
       "      <td>2014</td>\n",
       "      <td>05</td>\n",
       "      <td>132 days 09:04:25</td>\n",
       "    </tr>\n",
       "    <tr>\n",
       "      <td>1</td>\n",
       "      <td>23162025</td>\n",
       "      <td>2014-01-01</td>\n",
       "      <td>2014-05-13 09:06:26</td>\n",
       "      <td>2014-05-13 11:58:02</td>\n",
       "      <td>5) 120 bis 180 Minuten</td>\n",
       "      <td>10296000000000</td>\n",
       "      <td>2014</td>\n",
       "      <td>05</td>\n",
       "      <td>132 days 09:06:26</td>\n",
       "    </tr>\n",
       "    <tr>\n",
       "      <td>2</td>\n",
       "      <td>22624449</td>\n",
       "      <td>2014-01-01</td>\n",
       "      <td>2014-04-13 14:51:52</td>\n",
       "      <td>2014-04-13 17:38:50</td>\n",
       "      <td>5) 120 bis 180 Minuten</td>\n",
       "      <td>10018000000000</td>\n",
       "      <td>2014</td>\n",
       "      <td>04</td>\n",
       "      <td>102 days 14:51:52</td>\n",
       "    </tr>\n",
       "    <tr>\n",
       "      <td>3</td>\n",
       "      <td>23161904</td>\n",
       "      <td>2014-01-01</td>\n",
       "      <td>2014-05-13 09:01:53</td>\n",
       "      <td>2014-05-13 09:02:28</td>\n",
       "      <td>1) 0 bis 15 Minuten</td>\n",
       "      <td>35000000000</td>\n",
       "      <td>2014</td>\n",
       "      <td>05</td>\n",
       "      <td>132 days 09:01:53</td>\n",
       "    </tr>\n",
       "    <tr>\n",
       "      <td>4</td>\n",
       "      <td>23161562</td>\n",
       "      <td>2014-01-01</td>\n",
       "      <td>2014-05-13 08:49:22</td>\n",
       "      <td>2014-05-13 08:58:00</td>\n",
       "      <td>1) 0 bis 15 Minuten</td>\n",
       "      <td>518000000000</td>\n",
       "      <td>2014</td>\n",
       "      <td>05</td>\n",
       "      <td>132 days 08:49:22</td>\n",
       "    </tr>\n",
       "  </tbody>\n",
       "</table>\n",
       "</div>"
      ],
      "text/plain": [
       "   BOOKING_HAL_ID DATE_BOOKING           DATE_FROM          DATE_UNTIL  \\\n",
       "0        23161966   2014-01-01 2014-05-13 09:04:25 2014-05-13 10:34:52   \n",
       "1        23162025   2014-01-01 2014-05-13 09:06:26 2014-05-13 11:58:02   \n",
       "2        22624449   2014-01-01 2014-04-13 14:51:52 2014-04-13 17:38:50   \n",
       "3        23161904   2014-01-01 2014-05-13 09:01:53 2014-05-13 09:02:28   \n",
       "4        23161562   2014-01-01 2014-05-13 08:49:22 2014-05-13 08:58:00   \n",
       "\n",
       "  BOOKING_LENGTH_CLASSIFICATION    BOOKING_TIME BOOKING_YEAR BOOKING_MONTH  \\\n",
       "0         4) 60 bis 120 Minuten   5427000000000         2014            05   \n",
       "1        5) 120 bis 180 Minuten  10296000000000         2014            05   \n",
       "2        5) 120 bis 180 Minuten  10018000000000         2014            04   \n",
       "3           1) 0 bis 15 Minuten     35000000000         2014            05   \n",
       "4           1) 0 bis 15 Minuten    518000000000         2014            05   \n",
       "\n",
       "      BOOKING_Month  \n",
       "0 132 days 09:04:25  \n",
       "1 132 days 09:06:26  \n",
       "2 102 days 14:51:52  \n",
       "3 132 days 09:01:53  \n",
       "4 132 days 08:49:22  "
      ]
     },
     "execution_count": 32,
     "metadata": {},
     "output_type": "execute_result"
    }
   ],
   "source": [
    "Booking_Length['DATE_FROM'] = pd.to_datetime(Booking_Length['DATE_FROM']) \n",
    "Booking_Length['DATE_BOOKING'] = pd.to_datetime(Booking_Length['DATE_BOOKING'])\n",
    "Booking_Length['BOOKING_Month'] = Booking_Length['DATE_FROM'] - Booking_Length['DATE_BOOKING']\n",
    "Booking_Length.head()\n",
    "# nicht berücksichtigen!"
   ]
  },
  {
   "cell_type": "code",
   "execution_count": 33,
   "metadata": {},
   "outputs": [],
   "source": [
    "rentalzone = all_data[['START_RENTAL_ZONE', 'END_RENTAL_ZONE']]"
   ]
  },
  {
   "cell_type": "code",
   "execution_count": 34,
   "metadata": {},
   "outputs": [
    {
     "data": {
      "text/html": [
       "<div>\n",
       "<style scoped>\n",
       "    .dataframe tbody tr th:only-of-type {\n",
       "        vertical-align: middle;\n",
       "    }\n",
       "\n",
       "    .dataframe tbody tr th {\n",
       "        vertical-align: top;\n",
       "    }\n",
       "\n",
       "    .dataframe thead th {\n",
       "        text-align: right;\n",
       "    }\n",
       "</style>\n",
       "<table border=\"1\" class=\"dataframe\">\n",
       "  <thead>\n",
       "    <tr style=\"text-align: right;\">\n",
       "      <th></th>\n",
       "      <th>START_RENTAL_ZONE</th>\n",
       "      <th>END_RENTAL_ZONE</th>\n",
       "    </tr>\n",
       "  </thead>\n",
       "  <tbody>\n",
       "    <tr>\n",
       "      <td>0</td>\n",
       "      <td>Pfarrer-Perabo-Platz / Kleyerstraße</td>\n",
       "      <td>NaN</td>\n",
       "    </tr>\n",
       "    <tr>\n",
       "      <td>1</td>\n",
       "      <td>Industriehof</td>\n",
       "      <td>NaN</td>\n",
       "    </tr>\n",
       "    <tr>\n",
       "      <td>2</td>\n",
       "      <td>NaN</td>\n",
       "      <td>Nibelungenplatz / Nibelungen Allee</td>\n",
       "    </tr>\n",
       "    <tr>\n",
       "      <td>3</td>\n",
       "      <td>Europaallee / Den Haager Straße</td>\n",
       "      <td>NaN</td>\n",
       "    </tr>\n",
       "    <tr>\n",
       "      <td>4</td>\n",
       "      <td>Frankenallee / Schwalbacherstraße</td>\n",
       "      <td>Voltastraße / An der Dammheide</td>\n",
       "    </tr>\n",
       "  </tbody>\n",
       "</table>\n",
       "</div>"
      ],
      "text/plain": [
       "                     START_RENTAL_ZONE                     END_RENTAL_ZONE\n",
       "0  Pfarrer-Perabo-Platz / Kleyerstraße                                 NaN\n",
       "1                         Industriehof                                 NaN\n",
       "2                                  NaN  Nibelungenplatz / Nibelungen Allee\n",
       "3      Europaallee / Den Haager Straße                                 NaN\n",
       "4    Frankenallee / Schwalbacherstraße      Voltastraße / An der Dammheide"
      ]
     },
     "execution_count": 34,
     "metadata": {},
     "output_type": "execute_result"
    }
   ],
   "source": [
    "rentalzone.head()"
   ]
  },
  {
   "cell_type": "code",
   "execution_count": 38,
   "metadata": {},
   "outputs": [
    {
     "ename": "AttributeError",
     "evalue": "Can only use .dt accessor with datetimelike values",
     "output_type": "error",
     "traceback": [
      "\u001b[1;31m---------------------------------------------------------------------------\u001b[0m",
      "\u001b[1;31mAttributeError\u001b[0m                            Traceback (most recent call last)",
      "\u001b[1;32m<ipython-input-38-d53205b7c8b4>\u001b[0m in \u001b[0;36m<module>\u001b[1;34m\u001b[0m\n\u001b[1;32m----> 1\u001b[1;33m \u001b[0mrentalzone\u001b[0m\u001b[1;33m.\u001b[0m\u001b[0mgroupby\u001b[0m\u001b[1;33m(\u001b[0m\u001b[0mrentalzone\u001b[0m\u001b[1;33m[\u001b[0m\u001b[1;34m'START_RENTAL_ZONE'\u001b[0m\u001b[1;33m]\u001b[0m\u001b[1;33m.\u001b[0m\u001b[0mdt\u001b[0m\u001b[1;33m.\u001b[0m\u001b[0mweekday_name\u001b[0m\u001b[1;33m)\u001b[0m\u001b[1;33m.\u001b[0m\u001b[0msize\u001b[0m\u001b[1;33m(\u001b[0m\u001b[1;33m)\u001b[0m\u001b[1;33m\u001b[0m\u001b[1;33m\u001b[0m\u001b[0m\n\u001b[0m\u001b[0;32m      2\u001b[0m \u001b[1;31m#ax = rentalzone.plot.scatter\u001b[0m\u001b[1;33m\u001b[0m\u001b[1;33m\u001b[0m\u001b[1;33m\u001b[0m\u001b[0m\n",
      "\u001b[1;32m~\\AppData\\Local\\Continuum\\anaconda3\\lib\\site-packages\\pandas\\core\\generic.py\u001b[0m in \u001b[0;36m__getattr__\u001b[1;34m(self, name)\u001b[0m\n\u001b[0;32m   5173\u001b[0m             \u001b[1;32mor\u001b[0m \u001b[0mname\u001b[0m \u001b[1;32min\u001b[0m \u001b[0mself\u001b[0m\u001b[1;33m.\u001b[0m\u001b[0m_accessors\u001b[0m\u001b[1;33m\u001b[0m\u001b[1;33m\u001b[0m\u001b[0m\n\u001b[0;32m   5174\u001b[0m         ):\n\u001b[1;32m-> 5175\u001b[1;33m             \u001b[1;32mreturn\u001b[0m \u001b[0mobject\u001b[0m\u001b[1;33m.\u001b[0m\u001b[0m__getattribute__\u001b[0m\u001b[1;33m(\u001b[0m\u001b[0mself\u001b[0m\u001b[1;33m,\u001b[0m \u001b[0mname\u001b[0m\u001b[1;33m)\u001b[0m\u001b[1;33m\u001b[0m\u001b[1;33m\u001b[0m\u001b[0m\n\u001b[0m\u001b[0;32m   5176\u001b[0m         \u001b[1;32melse\u001b[0m\u001b[1;33m:\u001b[0m\u001b[1;33m\u001b[0m\u001b[1;33m\u001b[0m\u001b[0m\n\u001b[0;32m   5177\u001b[0m             \u001b[1;32mif\u001b[0m \u001b[0mself\u001b[0m\u001b[1;33m.\u001b[0m\u001b[0m_info_axis\u001b[0m\u001b[1;33m.\u001b[0m\u001b[0m_can_hold_identifiers_and_holds_name\u001b[0m\u001b[1;33m(\u001b[0m\u001b[0mname\u001b[0m\u001b[1;33m)\u001b[0m\u001b[1;33m:\u001b[0m\u001b[1;33m\u001b[0m\u001b[1;33m\u001b[0m\u001b[0m\n",
      "\u001b[1;32m~\\AppData\\Local\\Continuum\\anaconda3\\lib\\site-packages\\pandas\\core\\accessor.py\u001b[0m in \u001b[0;36m__get__\u001b[1;34m(self, obj, cls)\u001b[0m\n\u001b[0;32m    173\u001b[0m             \u001b[1;31m# we're accessing the attribute of the class, i.e., Dataset.geo\u001b[0m\u001b[1;33m\u001b[0m\u001b[1;33m\u001b[0m\u001b[1;33m\u001b[0m\u001b[0m\n\u001b[0;32m    174\u001b[0m             \u001b[1;32mreturn\u001b[0m \u001b[0mself\u001b[0m\u001b[1;33m.\u001b[0m\u001b[0m_accessor\u001b[0m\u001b[1;33m\u001b[0m\u001b[1;33m\u001b[0m\u001b[0m\n\u001b[1;32m--> 175\u001b[1;33m         \u001b[0maccessor_obj\u001b[0m \u001b[1;33m=\u001b[0m \u001b[0mself\u001b[0m\u001b[1;33m.\u001b[0m\u001b[0m_accessor\u001b[0m\u001b[1;33m(\u001b[0m\u001b[0mobj\u001b[0m\u001b[1;33m)\u001b[0m\u001b[1;33m\u001b[0m\u001b[1;33m\u001b[0m\u001b[0m\n\u001b[0m\u001b[0;32m    176\u001b[0m         \u001b[1;31m# Replace the property with the accessor object. Inspired by:\u001b[0m\u001b[1;33m\u001b[0m\u001b[1;33m\u001b[0m\u001b[1;33m\u001b[0m\u001b[0m\n\u001b[0;32m    177\u001b[0m         \u001b[1;31m# http://www.pydanny.com/cached-property.html\u001b[0m\u001b[1;33m\u001b[0m\u001b[1;33m\u001b[0m\u001b[1;33m\u001b[0m\u001b[0m\n",
      "\u001b[1;32m~\\AppData\\Local\\Continuum\\anaconda3\\lib\\site-packages\\pandas\\core\\indexes\\accessors.py\u001b[0m in \u001b[0;36m__new__\u001b[1;34m(cls, data)\u001b[0m\n\u001b[0;32m    341\u001b[0m             \u001b[1;32mpass\u001b[0m  \u001b[1;31m# we raise an attribute error anyway\u001b[0m\u001b[1;33m\u001b[0m\u001b[1;33m\u001b[0m\u001b[0m\n\u001b[0;32m    342\u001b[0m \u001b[1;33m\u001b[0m\u001b[0m\n\u001b[1;32m--> 343\u001b[1;33m         \u001b[1;32mraise\u001b[0m \u001b[0mAttributeError\u001b[0m\u001b[1;33m(\u001b[0m\u001b[1;34m\"Can only use .dt accessor with datetimelike \"\u001b[0m \u001b[1;34m\"values\"\u001b[0m\u001b[1;33m)\u001b[0m\u001b[1;33m\u001b[0m\u001b[1;33m\u001b[0m\u001b[0m\n\u001b[0m",
      "\u001b[1;31mAttributeError\u001b[0m: Can only use .dt accessor with datetimelike values"
     ]
    }
   ],
   "source": [
    "rentalzone.groupby(rentalzone['START_RENTAL_ZONE'].dt.weekday_name).size()\n",
    "#ax = rentalzone.plot.scatter"
   ]
  },
  {
   "cell_type": "code",
   "execution_count": 35,
   "metadata": {},
   "outputs": [
    {
     "ename": "AttributeError",
     "evalue": "'AxesSubplot' object has no attribute 'head'",
     "output_type": "error",
     "traceback": [
      "\u001b[1;31m---------------------------------------------------------------------------\u001b[0m",
      "\u001b[1;31mAttributeError\u001b[0m                            Traceback (most recent call last)",
      "\u001b[1;32m<ipython-input-35-65f948bc422e>\u001b[0m in \u001b[0;36m<module>\u001b[1;34m\u001b[0m\n\u001b[1;32m----> 1\u001b[1;33m \u001b[0mrentalzone\u001b[0m\u001b[1;33m.\u001b[0m\u001b[0mgroupby\u001b[0m\u001b[1;33m(\u001b[0m\u001b[1;33m[\u001b[0m\u001b[1;34m'START_RENTAL_ZONE'\u001b[0m\u001b[1;33m]\u001b[0m\u001b[1;33m)\u001b[0m\u001b[1;33m.\u001b[0m\u001b[0magg\u001b[0m\u001b[1;33m(\u001b[0m\u001b[1;33m{\u001b[0m\u001b[1;34m'START_RENTAL_ZONE'\u001b[0m\u001b[1;33m:\u001b[0m \u001b[1;33m[\u001b[0m\u001b[1;34m'count'\u001b[0m\u001b[1;33m]\u001b[0m\u001b[1;33m}\u001b[0m\u001b[1;33m)\u001b[0m\u001b[1;33m.\u001b[0m\u001b[0mplot\u001b[0m\u001b[1;33m(\u001b[0m\u001b[0mkind\u001b[0m\u001b[1;33m=\u001b[0m\u001b[1;34m'bar'\u001b[0m\u001b[1;33m)\u001b[0m\u001b[1;33m.\u001b[0m\u001b[0mhead\u001b[0m\u001b[1;33m(\u001b[0m\u001b[1;33m)\u001b[0m\u001b[1;33m\u001b[0m\u001b[1;33m\u001b[0m\u001b[0m\n\u001b[0m",
      "\u001b[1;31mAttributeError\u001b[0m: 'AxesSubplot' object has no attribute 'head'"
     ]
    },
    {
     "data": {
      "image/png": "[encoded data removed]",
      "text/plain": [
       "<Figure size 432x288 with 1 Axes>"
      ]
     },
     "metadata": {
      "needs_background": "light"
     },
     "output_type": "display_data"
    }
   ],
   "source": [
    "rentalzone.groupby(['START_RENTAL_ZONE']).agg({'START_RENTAL_ZONE': ['count']}).plot(kind='bar').head()\n",
    "#Which Rental Zone is used most often?"
   ]
  }
 ],
 "metadata": {
  "kernelspec": {
   "display_name": "Python 3",
   "language": "python",
   "name": "python3"
  },
  "language_info": {
   "codemirror_mode": {
    "name": "ipython",
    "version": 3
   },
   "file_extension": ".py",
   "mimetype": "text/x-python",
   "name": "python",
   "nbconvert_exporter": "python",
   "pygments_lexer": "ipython3",
   "version": "3.7.4"
  }
 },
 "nbformat": 4,
 "nbformat_minor": 2
}
