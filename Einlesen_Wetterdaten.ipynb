{
 "cells": [
  {
   "cell_type": "code",
   "execution_count": null,
   "metadata": {},
   "outputs": [],
   "source": [
    "import numpy as np\n",
    "import sklearn\n",
    "import pandas as pd\n",
    "MergeListe = []\n",
    "#Noch offene Todos\n",
    "    #Fehlerwerte definieren\n",
    "    #variable als input string?\n",
    "    #nochmal überprüfen, ob die richtigen Tabellen benutzt wurden\n",
    "    #überprüfen ob daten bei regen stimmen können, da sehr oft 0.0\n",
    "    #Regressionsanalyse? Sinnvoll?"
   ]
  },
  {
   "cell_type": "code",
   "execution_count": null,
   "metadata": {},
   "outputs": [],
   "source": [
    "#Datensatz der Sonnenmin einlesen und die Spalten umbenennen. \n",
    "#Nur relevanten Zeitraum drin stehen lassen. \n",
    "#Das pd in eine Merge Liste eintragen\n",
    "Sonne_Dataset = pd.read_csv(r\"C:\\Users\\Wohli\\OneDrive\\Dokumente\\Uni\\Analytics and Applications\\Black Mamba\\testnotebook_einlesen\\produkt_sd_stunde_19510101_20181231_01420.txt\", \n",
    "                header = 0,\n",
    "                index_col=\"DatumZeit\",\n",
    "                names = [\"Messstation\",\n",
    "                        \"DatumZeit\",\n",
    "                        \"QN_7\",\n",
    "                        \"Sonnenscheindauer\",\n",
    "                        \"eor\"], \n",
    "                sep=\";\",\n",
    "                decimal=\".\",\n",
    "                usecols=[\"DatumZeit\",\"Sonnenscheindauer\"])\n",
    "Sonne_Dataset = Sonne_Dataset[Sonne_Dataset.index>= 2015050100]\n",
    "Sonne_Dataset = Sonne_Dataset[Sonne_Dataset.index <2017010100]\n",
    "print(Sonne_Dataset)\n",
    "MergeListe.append(Sonne_Dataset)"
   ]
  },
  {
   "cell_type": "code",
   "execution_count": null,
   "metadata": {
    "scrolled": true
   },
   "outputs": [],
   "source": [
    "#Notiz: ich würde eigentlich gerne alles mit Schleifen machen lassen. \n",
    "#Also alle wichtigen Dateien in einem Ordner haben und das ganze dann durchiterieren. \n",
    "#Je nach Zeitaufwand und Lust könnte ich es ja mal versuchen "
   ]
  },
  {
   "cell_type": "code",
   "execution_count": null,
   "metadata": {},
   "outputs": [],
   "source": [
    "#Datensatz der Temperatur einlesen. Das ganze wie vorher machen und dann in die Liste eintragen\n",
    "\n",
    "Temp_Dataset = pd.read_csv(r\"C:\\Users\\Wohli\\OneDrive\\Dokumente\\Uni\\Analytics and Applications\\Black Mamba\\testnotebook_einlesen\\produkt_tu_stunde_19810101_20181231_01420.txt\", \n",
    "                header = 0,\n",
    "                index_col=\"DatumZeit\",\n",
    "                names = [\"Messstation\",\n",
    "                        \"DatumZeit\",\n",
    "                        \"QN_9\",\n",
    "                        \"Temperatur\",\n",
    "                        \"RelativeLuftfeuchte\",\n",
    "                        \"eor\"], \n",
    "                sep=\";\",\n",
    "                decimal=\".\",\n",
    "                usecols=[\"DatumZeit\",\"Temperatur\",\"RelativeLuftfeuchte\"])\n",
    "Temp_Dataset = Temp_Dataset[Temp_Dataset.index>= 2015050100]\n",
    "Temp_Dataset = Temp_Dataset[Temp_Dataset.index <2017010100]\n",
    "print(Temp_Dataset)\n",
    "MergeListe.append(Temp_Dataset)"
   ]
  },
  {
   "cell_type": "code",
   "execution_count": null,
   "metadata": {},
   "outputs": [],
   "source": [
    "#Datensatz cloudiness einlesen. Das ganze wie vorher machen und dann in die Liste eintragen\n",
    "\n",
    "Wolken_Dataset = pd.read_csv(r\"C:\\Users\\Wohli\\OneDrive\\Dokumente\\Uni\\Analytics and Applications\\Black Mamba\\testnotebook_einlesen\\produkt_n_stunde_19490101_20181231_01420.txt\", \n",
    "                header = 0,\n",
    "                index_col=\"DatumZeit\",\n",
    "                names = [\"Messstation\",\n",
    "                        \"DatumZeit\",\n",
    "                        \"QN_8\",\n",
    "                        \"Messart\",\n",
    "                        \"Bewoelkung\",\n",
    "                        \"eor\"], \n",
    "                sep=\";\",\n",
    "                decimal=\".\",\n",
    "                usecols=[\"DatumZeit\",\"Bewoelkung\"])\n",
    "Wolken_Dataset = Wolken_Dataset[Wolken_Dataset.index>= 2015050100]\n",
    "Wolken_Dataset = Wolken_Dataset[Wolken_Dataset.index <2017010100]\n",
    "print(Wolken_Dataset)\n",
    "MergeListe.append(Wolken_Dataset)"
   ]
  },
  {
   "cell_type": "code",
   "execution_count": null,
   "metadata": {},
   "outputs": [],
   "source": []
  },
  {
   "cell_type": "code",
   "execution_count": null,
   "metadata": {},
   "outputs": [],
   "source": [
    "#Das gleiche wie oben. Jetzt für Niederschlag in mm\n",
    "Regen_Dataset = pd.read_csv(r\"C:\\Users\\Wohli\\OneDrive\\Dokumente\\Uni\\Analytics and Applications\\Black Mamba\\testnotebook_einlesen\\produkt_rr_stunde_19950901_20181231_01420.txt\", \n",
    "                header = 0,\n",
    "                index_col=\"DatumZeit\",\n",
    "                names = [\"Messstation\",\n",
    "                        \"DatumZeit\",\n",
    "                        \"QN_8\",\n",
    "                        \"Niederschlagsmenge\",\n",
    "                        \"NiederschlagBool\",\n",
    "                        \"Niederschlagsform\",\n",
    "                        \"eor\"], \n",
    "                sep=\";\",\n",
    "                decimal=\".\",\n",
    "                usecols=[\"DatumZeit\",\"Niederschlagsmenge\",\"NiederschlagBool\"])\n",
    "Regen_Dataset = Regen_Dataset[Regen_Dataset.index>= 2015050100]\n",
    "Regen_Dataset = Regen_Dataset[Regen_Dataset.index <2017010100]\n",
    "print(Regen_Dataset)\n",
    "MergeListe.append(Regen_Dataset)"
   ]
  },
  {
   "cell_type": "code",
   "execution_count": null,
   "metadata": {},
   "outputs": [],
   "source": [
    "#Das gleiche wie oben. Jetzt für Sichtbarkeit in m\n",
    "Sicht_Dataset = pd.read_csv(r\"C:\\Users\\Wohli\\OneDrive\\Dokumente\\Uni\\Analytics and Applications\\Black Mamba\\testnotebook_einlesen\\produkt_vv_stunde_19490101_20181231_01420.txt\", \n",
    "                header = 0,\n",
    "                index_col=\"DatumZeit\",\n",
    "                names = [\"Messstation\",\n",
    "                        \"DatumZeit\",\n",
    "                        \"QN_8\",\n",
    "                        \"Messart\",\n",
    "                        \"Sichtweite\",\n",
    "                        \"eor\"], \n",
    "                sep=\";\",\n",
    "                decimal=\".\",\n",
    "                usecols=[\"DatumZeit\",\"Sichtweite\"])\n",
    "Sicht_Dataset = Sicht_Dataset[Sicht_Dataset.index>= 2015050100]\n",
    "Sicht_Dataset = Sicht_Dataset[Sicht_Dataset.index <2017010100]\n",
    "print(Sicht_Dataset)\n",
    "MergeListe.append(Sicht_Dataset)"
   ]
  },
  {
   "cell_type": "code",
   "execution_count": null,
   "metadata": {},
   "outputs": [],
   "source": [
    "#Das gleiche wie oben. Jetzt für die mittlere Windstärke in m/s\n",
    "Wind_Dataset = pd.read_csv(r\"C:\\Users\\Wohli\\OneDrive\\Dokumente\\Uni\\Analytics and Applications\\Black Mamba\\testnotebook_einlesen\\produkt_ff_stunde_19670101_20181231_01420.txt\", \n",
    "                header = 0,\n",
    "                index_col=\"DatumZeit\",\n",
    "                names = [\"Messstation\",\n",
    "                        \"DatumZeit\",\n",
    "                        \"QN_3\",\n",
    "                        \"Windgeschwindigkeit\",\n",
    "                        \"Windrichtung\",\n",
    "                        \"eor\"], \n",
    "                sep=\";\",\n",
    "                decimal=\".\",\n",
    "                usecols=[\"DatumZeit\",\"Windgeschwindigkeit\"])\n",
    "Wind_Dataset = Wind_Dataset[Wind_Dataset.index>= 2015050100]\n",
    "Wind_Dataset = Wind_Dataset[Wind_Dataset.index <2017010100]\n",
    "print(Wind_Dataset)\n",
    "MergeListe.append(Wind_Dataset)"
   ]
  },
  {
   "cell_type": "code",
   "execution_count": null,
   "metadata": {},
   "outputs": [],
   "source": [
    "#joining all existing data frames to one by using the index\n",
    "\n",
    "Wetterdaten = MergeListe\n",
    "Wetterdaten[0].join(Wetterdaten[1:])"
   ]
  },
  {
   "cell_type": "code",
   "execution_count": null,
   "metadata": {},
   "outputs": [],
   "source": []
  }
 ],
 "metadata": {
  "kernelspec": {
   "display_name": "Python 3",
   "language": "python",
   "name": "python3"
  },
  "language_info": {
   "codemirror_mode": {
    "name": "ipython",
    "version": 3
   },
   "file_extension": ".py",
   "mimetype": "text/x-python",
   "name": "python",
   "nbconvert_exporter": "python",
   "pygments_lexer": "ipython3",
   "version": "3.7.3"
  }
 },
 "nbformat": 4,
 "nbformat_minor": 2
}
